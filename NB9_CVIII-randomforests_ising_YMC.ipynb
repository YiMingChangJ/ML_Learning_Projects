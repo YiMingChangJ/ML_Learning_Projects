{
 "cells": [
  {
   "cell_type": "markdown",
   "metadata": {},
   "source": [
    "# Notebook 9: Using Random Forests to classify phases in the Ising Model\n",
    "Yi Ming Chang<br>\n",
    "B00751897<br>\n",
    "Feb 23th, 2021"
   ]
  },
  {
   "cell_type": "markdown",
   "metadata": {},
   "source": [
    "\n",
    "\n",
    "## Learning Goal\n",
    "\n",
    "The goal of this notebook is to show how one can employ ensemble methods such as Random Forests to classify the states of the 2D Ising model according to their phases. We discuss concepts like decision trees, extreme decision trees, and out-of-bag error. The notebook also introduces the powerful scikit-learn `Ensemble` class.\n",
    "\n",
    "\n",
    "## Setting up the problem\n",
    "\n",
    "The Hamiltonian for the classical Ising model is given by\n",
    "\n",
    "$$ H = -J\\sum_{\\langle ij\\rangle}S_{i}S_j,\\qquad \\qquad S_j\\in\\{\\pm 1\\} $$\n",
    "\n",
    "where the lattice site indices $i,j$ run over all nearest neighbors of a 2D square lattice of side $L$, and $J$ is some arbitrary interaction energy scale. We adopt periodic boundary conditions. Onsager proved that this model undergoes a phase transition in the thermodynamic limit from an ordered ferromagnet with all spins aligned to a disordered phase at the critical temperature $T_c/J=1/\\log(1+\\sqrt{2})\\approx 2.26$. For any finite system size, this critical point is expanded to a critical region around $T_c$.\n",
    "\n",
    "We will use the same basic idea as we did for logistic regression. An interesting question to ask is whether one can train a statistical model to distinguish between the two phases of the Ising model. In other words, given an Ising state, we would like to classify whether it belongs to the ordered or the disordered phase, without any additional information other than the spin configuration itself. This categorical machine learning problem is well suited for ensemble methods and in particular Random Forests.\n",
    "\n",
    "To this end, we consider the 2D Ising model on a $40\\times 40$ square lattice, and use Monte-Carlo (MC) sampling to prepare $10^4$ states at every fixed temperature $T$ out of a pre-defined set. Using Onsager's criterion, we can assign a label to each state according to its phase: $0$ if the state is disordered, and $1$ if it is ordered. \n",
    "\n",
    "It is well-known that, near the critical temperature $T_c$, the ferromagnetic correlation length diverges which, among others, leads to a critical slowing down of the MC algorithm. Therefore, we expect identifying the phases to be harder in the critical region. With this in mind, consider the following three types of states: ordered ($T/J<2.0$), critical ($2.0\\leq T/J\\leq 2.5)$ and disordered ($T/J>2.5$). We use both ordered and disordered states to train the random forest and, once the supervised training procedure is complete, we shall evaluate the performance of our classifier on unseen ordered, disordered and critical states. \n",
    "\n",
    "A link to the Ising dataset can be found at [https://physics.bu.edu/~pankajm/MLnotebooks.html](https://physics.bu.edu/~pankajm/MLnotebooks.html)."
   ]
  },
  {
   "cell_type": "code",
   "execution_count": 1,
   "metadata": {},
   "outputs": [],
   "source": [
    "import numpy as np\n",
    "\n",
    "np.random.seed() # shuffle random seed generator\n",
    "\n",
    "# Ising model parameters\n",
    "L=40 # linear system size\n",
    "J=-1.0 # Ising interaction\n",
    "T=np.linspace(0.25,4.0,16) # set of temperatures\n",
    "T_c=2.26 # Onsager critical temperature in the TD limit"
   ]
  },
  {
   "cell_type": "code",
   "execution_count": 2,
   "metadata": {},
   "outputs": [],
   "source": [
    "import pickle, os\n",
    "from urllib.request import urlopen \n",
    "\n",
    "# path to data directory (for testing)\n",
    "#path_to_data=os.path.expanduser('~')+'/Dropbox/MachineLearningReview/Datasets/isingMC/'\n",
    "\n",
    "url_main = 'https://physics.bu.edu/~pankajm/ML-Review-Datasets/isingMC/';\n",
    "\n",
    "######### LOAD DATA\n",
    "# The data consists of 16*10000 samples taken in T=np.arange(0.25,4.0001,0.25):\n",
    "data_file_name = \"Ising2DFM_reSample_L40_T=All.pkl\" \n",
    "# The labels are obtained from the following file:\n",
    "label_file_name = \"Ising2DFM_reSample_L40_T=All_labels.pkl\"\n",
    "\n",
    "\n",
    "#DATA\n",
    "data = pickle.load(urlopen(url_main + data_file_name)) # pickle reads the file and returns the Python object (1D array, compressed bits)\n",
    "data = np.unpackbits(data).reshape(-1, 1600) # Decompress array and reshape for convenience\n",
    "data=data.astype('int')\n",
    "data[np.where(data==0)]=-1 # map 0 state to -1 (Ising variable can take values +/-1)\n",
    "\n",
    "#LABELS (convention is 1 for ordered states and 0 for disordered states)\n",
    "labels = pickle.load(urlopen(url_main + label_file_name)) # pickle reads the file and returns the Python object (here just a 1D array with the binary labels)"
   ]
  },
  {
   "cell_type": "code",
   "execution_count": 3,
   "metadata": {},
   "outputs": [
    {
     "name": "stdout",
     "output_type": "stream",
     "text": [
      "X_train shape: (104000, 1600)\n",
      "Y_train shape: (104000,)\n",
      "\n",
      "104000 train samples\n",
      "30000 critical samples\n",
      "26000 test samples\n"
     ]
    }
   ],
   "source": [
    "###### define ML parameters\n",
    "from sklearn.model_selection import train_test_split\n",
    "train_to_test_ratio=0.8 # training samples\n",
    "\n",
    "# divide data into ordered, critical and disordered\n",
    "X_ordered=data[:70000,:]\n",
    "Y_ordered=labels[:70000]\n",
    "\n",
    "X_critical=data[70000:100000,:]\n",
    "Y_critical=labels[70000:100000]\n",
    "\n",
    "X_disordered=data[100000:,:]\n",
    "Y_disordered=labels[100000:]\n",
    "\n",
    "del data,labels\n",
    "\n",
    "# define training and test data sets\n",
    "X=np.concatenate((X_ordered,X_disordered))\n",
    "Y=np.concatenate((Y_ordered,Y_disordered))\n",
    "\n",
    "# pick random data points from ordered and disordered states \n",
    "# to create the training and test sets\n",
    "X_train,X_test,Y_train,Y_test=train_test_split(X,Y,train_size=train_to_test_ratio,test_size=1.0-train_to_test_ratio)\n",
    "\n",
    "print('X_train shape:', X_train.shape)\n",
    "print('Y_train shape:', Y_train.shape)\n",
    "print()\n",
    "print(X_train.shape[0], 'train samples')\n",
    "print(X_critical.shape[0], 'critical samples')\n",
    "print(X_test.shape[0], 'test samples')"
   ]
  },
  {
   "cell_type": "code",
   "execution_count": 4,
   "metadata": {},
   "outputs": [
    {
     "data": {
      "image/png": "[encoded data removed]",
      "text/plain": [
       "<Figure size 432x288 with 3 Axes>"
      ]
     },
     "metadata": {
      "needs_background": "light"
     },
     "output_type": "display_data"
    }
   ],
   "source": [
    "##### plot a few Ising states\n",
    "%matplotlib inline \n",
    "\n",
    "#import ml_style as style\n",
    "import matplotlib as mpl\n",
    "import matplotlib.pyplot as plt\n",
    "#mpl.rcParams.update(style.style)\n",
    "\n",
    "from mpl_toolkits.axes_grid1 import make_axes_locatable\n",
    "\n",
    "# set colourbar map\n",
    "cmap_args=dict(cmap='plasma_r')\n",
    "\n",
    "# plot states\n",
    "fig, axarr = plt.subplots(nrows=1, ncols=3)\n",
    "\n",
    "axarr[0].imshow(X_ordered[20001].reshape(L,L),**cmap_args)\n",
    "#axarr[0].set_title('$\\\\mathrm{ordered\\\\ phase}$',fontsize=16)\n",
    "axarr[0].set_title('ordered phase',fontsize=16)\n",
    "axarr[0].tick_params(labelsize=16)\n",
    "\n",
    "axarr[1].imshow(X_critical[10001].reshape(L,L),**cmap_args)\n",
    "#axarr[1].set_title('$\\\\mathrm{critical\\\\ region}$',fontsize=16)\n",
    "axarr[1].set_title('critical region',fontsize=16)\n",
    "axarr[1].tick_params(labelsize=16)\n",
    "\n",
    "im=axarr[2].imshow(X_disordered[50001].reshape(L,L),**cmap_args)\n",
    "#axarr[2].set_title('$\\\\mathrm{disordered\\\\ phase}$',fontsize=16)\n",
    "axarr[2].set_title('disordered phase',fontsize=16)\n",
    "axarr[2].tick_params(labelsize=16)\n",
    "\n",
    "fig.subplots_adjust(right=2.0)\n",
    "\n",
    "plt.show()"
   ]
  },
  {
   "cell_type": "markdown",
   "metadata": {},
   "source": [
    "## Random Forests\n",
    "\n",
    "**Hyperparameters**\n",
    "\n",
    "We start by training with Random Forests. As discussed in Sec. VIII of the review, Random Forests are ensemble models. Here we will use the sci-kit learn implementation of random forests.  There are two main hyper-parameters that will be important in practice for the performance of the algorithm and the degree to which it overfits/underfits: the number of estimators in the ensemble and the depth of the trees used. The former is controlled by the parameter `n_estimators` whereas the latter (the complexity of the trees used) can be controlled in many distinct ways (`min_samples_split`, `min_samples_leaf`, `min_impurity_decrease`, etc). For our simple dataset, it does not really make much difference which one of these we use. We will just use the `min_samples_split` parameter that dictates how many samples need to be in each node of the classification tree. The bigger this number, the more coarse our trees and data partitioning.\n",
    "\n",
    "In the code below, we will just consider extremely fine trees (`min_samples_split=2`) or extremely coarse trees (`min_samples_split=10000`). As we will see, both of these tree complexities are sufficient to distinguish the ordered from the disordered samples. The reason for this is that the ordered and disordered phases are distinguished by the magnetization order parameter which is an equally weighted sum of all features. However, if we want to train deep in these simple phases, and then use our algorithm to distinguish critical samples it is crucial we use more complex trees even though the performance on the disordered and ordered phases is indistinguishable for coarse and complex trees.\n",
    "\n",
    "**Out of Bag (OOB) Estimates**\n",
    "\n",
    "For more complicated datasets, how can we choose the right hyperparameters? We can actually make use of one of the most important and interesting features of ensemble methods that employ Bagging: out-of-bag (OOB) estimates. Whenever we bag data, since we are drawing samples with replacement, we can ask how well our classifiers do on data points that are *not used* in the training. This is the out-of-bag prediction error and plays a similar role to cross-validation error in other ML methods. Since this is the best proxy for out-of-sample prediction, we choose hyperparameters to minimize the out-of-bag error."
   ]
  },
  {
   "cell_type": "code",
   "execution_count": 14,
   "metadata": {},
   "outputs": [
    {
     "name": "stdout",
     "output_type": "stream",
     "text": [
      "n_estimators: 10, leaf_size: 2\n",
      "time (s)       train score    OOB estimate   test score     critical score \n",
      "9.9809         1.0000         0.9931         0.9999         0.8065         \n",
      "n_estimators: 20, leaf_size: 2\n",
      "time (s)       train score    OOB estimate   test score     critical score \n",
      "11.1501        1.0000         0.9998         1.0000         0.8216         \n",
      "n_estimators: 30, leaf_size: 2\n",
      "time (s)       train score    OOB estimate   test score     critical score \n",
      "12.8729        1.0000         1.0000         1.0000         0.8255         \n",
      "n_estimators: 40, leaf_size: 2\n",
      "time (s)       train score    OOB estimate   test score     critical score \n",
      "15.6811        1.0000         0.9999         1.0000         0.8277         \n",
      "n_estimators: 50, leaf_size: 2\n",
      "time (s)       train score    OOB estimate   test score     critical score \n",
      "17.1622        1.0000         0.9999         1.0000         0.8293         \n",
      "n_estimators: 60, leaf_size: 2\n",
      "time (s)       train score    OOB estimate   test score     critical score \n",
      "19.5878        1.0000         1.0000         1.0000         0.8305         \n",
      "n_estimators: 70, leaf_size: 2\n",
      "time (s)       train score    OOB estimate   test score     critical score \n",
      "20.7466        1.0000         1.0000         1.0000         0.8311         \n",
      "n_estimators: 80, leaf_size: 2\n",
      "time (s)       train score    OOB estimate   test score     critical score \n",
      "23.8453        1.0000         1.0000         1.0000         0.8320         \n",
      "n_estimators: 90, leaf_size: 2\n",
      "time (s)       train score    OOB estimate   test score     critical score \n",
      "25.4579        1.0000         1.0000         1.0000         0.8327         \n",
      "n_estimators: 100, leaf_size: 2\n",
      "time (s)       train score    OOB estimate   test score     critical score \n",
      "25.6424        1.0000         1.0000         1.0000         0.8333         \n",
      "n_estimators: 10, leaf_size: 10000\n",
      "time (s)       train score    OOB estimate   test score     critical score \n",
      "7.2576         0.9992         0.9898         0.9990         0.6822         \n",
      "n_estimators: 20, leaf_size: 10000\n",
      "time (s)       train score    OOB estimate   test score     critical score \n",
      "9.2487         0.9993         0.9985         0.9992         0.6871         \n",
      "n_estimators: 30, leaf_size: 10000\n",
      "time (s)       train score    OOB estimate   test score     critical score \n",
      "11.2760        0.9993         0.9991         0.9992         0.6891         \n",
      "n_estimators: 40, leaf_size: 10000\n",
      "time (s)       train score    OOB estimate   test score     critical score \n",
      "13.1408        0.9993         0.9992         0.9992         0.6883         \n",
      "n_estimators: 50, leaf_size: 10000\n",
      "time (s)       train score    OOB estimate   test score     critical score \n",
      "16.3998        0.9993         0.9993         0.9992         0.6882         \n",
      "n_estimators: 60, leaf_size: 10000\n",
      "time (s)       train score    OOB estimate   test score     critical score \n",
      "19.5432        0.9993         0.9993         0.9992         0.6868         \n",
      "n_estimators: 70, leaf_size: 10000\n",
      "time (s)       train score    OOB estimate   test score     critical score \n",
      "19.6249        0.9993         0.9993         0.9992         0.6865         \n",
      "n_estimators: 80, leaf_size: 10000\n",
      "time (s)       train score    OOB estimate   test score     critical score \n",
      "20.8887        0.9993         0.9993         0.9992         0.6857         \n",
      "n_estimators: 90, leaf_size: 10000\n",
      "time (s)       train score    OOB estimate   test score     critical score \n",
      "22.2631        0.9993         0.9993         0.9992         0.6855         \n",
      "n_estimators: 100, leaf_size: 10000\n",
      "time (s)       train score    OOB estimate   test score     critical score \n",
      "23.9678        0.9993         0.9993         0.9992         0.6860         \n"
     ]
    }
   ],
   "source": [
    "# Apply Random Forest\n",
    "\n",
    "#This is the random forest classifier\n",
    "from sklearn.ensemble import RandomForestClassifier\n",
    "\n",
    "#This is the extreme randomized trees\n",
    "from sklearn.ensemble import ExtraTreesClassifier\n",
    "\n",
    "\n",
    "\n",
    "#import time to see how perforamance depends on run time\n",
    "\n",
    "import time\n",
    "\n",
    "import warnings\n",
    "#Comment to turn on warnings\n",
    "warnings.filterwarnings(\"ignore\")\n",
    "\n",
    "#We will check \n",
    "\n",
    "min_estimators = 10\n",
    "max_estimators = 101\n",
    "classifer = RandomForestClassifier # BELOW WE WILL CHANGE for the case of extremly randomized forest \n",
    "\n",
    "n_estimator_range=np.arange(min_estimators, max_estimators, 10)\n",
    "leaf_size_list=[2,10000]\n",
    "\n",
    "m=len(n_estimator_range)\n",
    "n=len(leaf_size_list)\n",
    "\n",
    "#Allocate Arrays for various quantities\n",
    "\n",
    "RFC_OOB_accuracy=np.zeros((n,m))\n",
    "RFC_train_accuracy=np.zeros((n,m))\n",
    "RFC_test_accuracy=np.zeros((n,m))\n",
    "RFC_critical_accuracy=np.zeros((n,m))\n",
    "run_time=np.zeros((n,m))\n",
    "\n",
    "print_flag=True\n",
    "\n",
    "for i, leaf_size in enumerate(leaf_size_list):\n",
    "    # Define Random Forest Classifier\n",
    "    myRF_clf = classifer(\n",
    "        n_estimators=min_estimators,\n",
    "        max_depth=None, \n",
    "        min_samples_split=leaf_size, # minimum number of sample per leaf\n",
    "        oob_score=True,\n",
    "        random_state=0,\n",
    "        warm_start=True # this ensures that you add estimators without retraining everything\n",
    "    )\n",
    "    for j, n_estimator in enumerate(n_estimator_range):\n",
    "        \n",
    "        print('n_estimators: %i, leaf_size: %i'%(n_estimator,leaf_size))\n",
    "        \n",
    "        start_time = time.time()\n",
    "        myRF_clf.set_params(n_estimators=n_estimator)\n",
    "        myRF_clf.fit(X_train, Y_train)\n",
    "        run_time[i,j] = time.time() - start_time\n",
    "\n",
    "    # check accuracy\n",
    "        RFC_train_accuracy[i,j]=myRF_clf.score(X_train,Y_train)\n",
    "        RFC_OOB_accuracy[i,j]=myRF_clf.oob_score_\n",
    "        RFC_test_accuracy[i,j]=myRF_clf.score(X_test,Y_test)\n",
    "        RFC_critical_accuracy[i,j]=myRF_clf.score(X_critical,Y_critical)\n",
    "        if print_flag:\n",
    "            result = (run_time[i,j], RFC_train_accuracy[i,j], RFC_OOB_accuracy[i,j], RFC_test_accuracy[i,j], RFC_critical_accuracy[i,j])\n",
    "            print('{0:<15}{1:<15}{2:<15}{3:<15}{4:<15}'.format(\"time (s)\",\"train score\", \"OOB estimate\",\"test score\", \"critical score\"))\n",
    "            print('{0:<15.4f}{1:<15.4f}{2:<15.4f}{3:<15.4f}{4:<15.4f}'.format(*result))\n"
   ]
  },
  {
   "cell_type": "code",
   "execution_count": 15,
   "metadata": {},
   "outputs": [
    {
     "data": {
      "image/png": "[encoded data removed]",
      "text/plain": [
       "<Figure size 432x288 with 1 Axes>"
      ]
     },
     "metadata": {
      "needs_background": "light"
     },
     "output_type": "display_data"
    },
    {
     "data": {
      "image/png": "[encoded data removed]",
      "text/plain": [
       "<Figure size 432x288 with 1 Axes>"
      ]
     },
     "metadata": {
      "needs_background": "light"
     },
     "output_type": "display_data"
    }
   ],
   "source": [
    "plt.figure()\n",
    "plt.plot(n_estimator_range,RFC_train_accuracy[1],'--b^',label='Train (coarse)')\n",
    "plt.plot(n_estimator_range,RFC_test_accuracy[1],'--r^',label='Test (coarse)')\n",
    "plt.plot(n_estimator_range,RFC_critical_accuracy[1],'--g^',label='Critical (coarse)')\n",
    "\n",
    "plt.plot(n_estimator_range,RFC_train_accuracy[0],'o-b',label='Train (fine)')\n",
    "plt.plot(n_estimator_range,RFC_test_accuracy[0],'o-r',label='Test (fine)')\n",
    "plt.plot(n_estimator_range,RFC_critical_accuracy[0],'o-g',label='Critical (fine)')\n",
    "\n",
    "#plt.semilogx(lmbdas,train_accuracy_SGD,'*--b',label='SGD train')\n",
    "\n",
    "plt.xlabel('$N_\\mathrm{estimators}$')\n",
    "plt.ylabel('Accuracy')\n",
    "lgd=plt.legend(bbox_to_anchor=(1.05, 1), loc=2, borderaxespad=0.)\n",
    "plt.savefig(\"Ising_RF.pdf\",bbox_extra_artists=(lgd,), bbox_inches='tight')\n",
    "\n",
    "plt.show()\n",
    "\n",
    "plt.plot(n_estimator_range, run_time[1], '--k^',label='Coarse')\n",
    "plt.plot(n_estimator_range, run_time[0], 'o-k',label='Fine')\n",
    "plt.xlabel('$N_\\mathrm{estimators}$')\n",
    "plt.ylabel('Run time (s)')\n",
    "\n",
    "\n",
    "plt.legend(loc=2)\n",
    "#plt.savefig(\"Ising_RF_Runtime.pdf\")\n",
    "\n",
    "plt.show()"
   ]
  },
  {
   "cell_type": "markdown",
   "metadata": {},
   "source": [
    "## Extremely Randomized Trees##\n",
    "\n",
    "As discussed in the main text, the effectiveness of ensemble methods generally increases as the correlations between members of the ensemble decrease. This idea has been leveraged to make methods that introduce even more randomness into the ensemble by randomly choosing features to split on as well as randomly choosing thresholds to split on. See Section 4.3 of Louppe 2014 [arxiv:1407.7502](https://arxiv.org/pdf/1407.7502.pdf).\n",
    "\n",
    "Here we will make use of the scikit-learn function `ExtremeTreesClassifier` and we will just rerun what we did above. Since there is extra randomization compared to random forests, one can imagine that the performance of the critical samples will be much worse. Indeed, this is the case."
   ]
  },
  {
   "cell_type": "code",
   "execution_count": 7,
   "metadata": {},
   "outputs": [
    {
     "name": "stdout",
     "output_type": "stream",
     "text": [
      "n_estimators: 10, leaf_size: 2\n",
      "time (s)       train score    OOB estimate   test score     critical score \n",
      "8.7508         1.0000         0.9930         0.9999         0.8029         \n",
      "n_estimators: 20, leaf_size: 2\n",
      "time (s)       train score    OOB estimate   test score     critical score \n",
      "10.4545        1.0000         0.9998         1.0000         0.8185         \n",
      "n_estimators: 30, leaf_size: 2\n",
      "time (s)       train score    OOB estimate   test score     critical score \n",
      "12.5589        1.0000         0.9999         1.0000         0.8236         \n",
      "n_estimators: 40, leaf_size: 2\n",
      "time (s)       train score    OOB estimate   test score     critical score \n",
      "14.9032        1.0000         1.0000         1.0000         0.8278         \n",
      "n_estimators: 50, leaf_size: 2\n",
      "time (s)       train score    OOB estimate   test score     critical score \n",
      "18.6019        1.0000         1.0000         1.0000         0.8297         \n",
      "n_estimators: 60, leaf_size: 2\n",
      "time (s)       train score    OOB estimate   test score     critical score \n",
      "18.6786        1.0000         1.0000         1.0000         0.8302         \n",
      "n_estimators: 70, leaf_size: 2\n",
      "time (s)       train score    OOB estimate   test score     critical score \n",
      "20.2539        1.0000         1.0000         0.9999         0.8318         \n",
      "n_estimators: 80, leaf_size: 2\n",
      "time (s)       train score    OOB estimate   test score     critical score \n",
      "21.4602        1.0000         1.0000         1.0000         0.8313         \n",
      "n_estimators: 90, leaf_size: 2\n",
      "time (s)       train score    OOB estimate   test score     critical score \n",
      "25.9848        1.0000         1.0000         1.0000         0.8331         \n",
      "n_estimators: 100, leaf_size: 2\n",
      "time (s)       train score    OOB estimate   test score     critical score \n",
      "28.6975        1.0000         1.0000         1.0000         0.8332         \n",
      "n_estimators: 10, leaf_size: 10000\n",
      "time (s)       train score    OOB estimate   test score     critical score \n",
      "10.5461        0.9992         0.9900         0.9991         0.6822         \n",
      "n_estimators: 20, leaf_size: 10000\n",
      "time (s)       train score    OOB estimate   test score     critical score \n",
      "12.9132        0.9993         0.9984         0.9992         0.6862         \n",
      "n_estimators: 30, leaf_size: 10000\n",
      "time (s)       train score    OOB estimate   test score     critical score \n",
      "14.6778        0.9993         0.9990         0.9992         0.6872         \n",
      "n_estimators: 40, leaf_size: 10000\n",
      "time (s)       train score    OOB estimate   test score     critical score \n",
      "14.6182        0.9993         0.9992         0.9992         0.6870         \n",
      "n_estimators: 50, leaf_size: 10000\n",
      "time (s)       train score    OOB estimate   test score     critical score \n",
      "15.4410        0.9993         0.9993         0.9992         0.6871         \n",
      "n_estimators: 60, leaf_size: 10000\n",
      "time (s)       train score    OOB estimate   test score     critical score \n",
      "17.2682        0.9993         0.9993         0.9992         0.6862         \n",
      "n_estimators: 70, leaf_size: 10000\n",
      "time (s)       train score    OOB estimate   test score     critical score \n",
      "19.3537        0.9993         0.9993         0.9992         0.6864         \n",
      "n_estimators: 80, leaf_size: 10000\n",
      "time (s)       train score    OOB estimate   test score     critical score \n",
      "21.1599        0.9993         0.9993         0.9992         0.6861         \n",
      "n_estimators: 90, leaf_size: 10000\n",
      "time (s)       train score    OOB estimate   test score     critical score \n",
      "23.6447        0.9993         0.9993         0.9992         0.6856         \n",
      "n_estimators: 100, leaf_size: 10000\n",
      "time (s)       train score    OOB estimate   test score     critical score \n",
      "27.8049        0.9993         0.9993         0.9992         0.6855         \n"
     ]
    }
   ],
   "source": [
    "#This is the extreme randomized trees\n",
    "from sklearn.ensemble import ExtraTreesClassifier\n",
    "\n",
    "#import time to see how perforamance depends on run time\n",
    "\n",
    "import time\n",
    "\n",
    "import warnings\n",
    "#Comment to turn on warnings\n",
    "warnings.filterwarnings(\"ignore\")\n",
    "\n",
    "#We will check \n",
    "\n",
    "\n",
    "min_estimators = 10\n",
    "max_estimators = 101\n",
    "classifer = ExtraTreesClassifier # only changing this\n",
    "\n",
    "n_estimator_range=np.arange(min_estimators, max_estimators, 10)\n",
    "leaf_size_list=[2,10000]\n",
    "\n",
    "m=len(n_estimator_range)\n",
    "n=len(leaf_size_list)\n",
    "\n",
    "#Allocate Arrays for various quantities\n",
    "\n",
    "ETC_OOB_accuracy=np.zeros((n,m))\n",
    "ETC_train_accuracy=np.zeros((n,m))\n",
    "ETC_test_accuracy=np.zeros((n,m))\n",
    "ETC_critical_accuracy=np.zeros((n,m))\n",
    "run_time=np.zeros((n,m))\n",
    "\n",
    "print_flag=True\n",
    "\n",
    "for i, leaf_size in enumerate(leaf_size_list):\n",
    "    # Define Random Forest Classifier\n",
    "    myRF_clf = classifer(\n",
    "        n_estimators=min_estimators,\n",
    "        max_depth=None, \n",
    "        min_samples_split=leaf_size, # minimum number of sample per leaf\n",
    "        oob_score=True,\n",
    "        bootstrap=True,\n",
    "        random_state=0,\n",
    "        warm_start=True # this ensures that you add estimators without retraining everything\n",
    "    )\n",
    "    for j, n_estimator in enumerate(n_estimator_range):\n",
    "        \n",
    "        print('n_estimators: %i, leaf_size: %i'%(n_estimator,leaf_size))\n",
    "        \n",
    "        start_time = time.time()\n",
    "        myRF_clf.set_params(n_estimators=n_estimator)\n",
    "        myRF_clf.fit(X_train, Y_train)\n",
    "        run_time[i,j] = time.time() - start_time\n",
    "\n",
    "    # check accuracy\n",
    "        ETC_train_accuracy[i,j]=myRF_clf.score(X_train,Y_train)\n",
    "        ETC_OOB_accuracy[i,j]=myRF_clf.oob_score_\n",
    "        ETC_test_accuracy[i,j]=myRF_clf.score(X_test,Y_test)\n",
    "        ETC_critical_accuracy[i,j]=myRF_clf.score(X_critical,Y_critical)\n",
    "        if print_flag:\n",
    "            result = (run_time[i,j], ETC_train_accuracy[i,j], ETC_OOB_accuracy[i,j], ETC_test_accuracy[i,j], ETC_critical_accuracy[i,j])\n",
    "            print('{0:<15}{1:<15}{2:<15}{3:<15}{4:<15}'.format(\"time (s)\",\"train score\", \"OOB estimate\",\"test score\", \"critical score\"))\n",
    "            print('{0:<15.4f}{1:<15.4f}{2:<15.4f}{3:<15.4f}{4:<15.4f}'.format(*result))\n",
    "\n",
    "\n"
   ]
  },
  {
   "cell_type": "code",
   "execution_count": 8,
   "metadata": {},
   "outputs": [
    {
     "data": {
      "image/png": "[encoded data removed]",
      "text/plain": [
       "<Figure size 432x288 with 1 Axes>"
      ]
     },
     "metadata": {
      "needs_background": "light"
     },
     "output_type": "display_data"
    },
    {
     "data": {
      "image/png": "[encoded data removed]",
      "text/plain": [
       "<Figure size 432x288 with 1 Axes>"
      ]
     },
     "metadata": {
      "needs_background": "light"
     },
     "output_type": "display_data"
    }
   ],
   "source": [
    "plt.figure()\n",
    "plt.plot(n_estimator_range,ETC_train_accuracy[1],'--b^',label='Train (coarse)')\n",
    "plt.plot(n_estimator_range,ETC_test_accuracy[1],'--r^',label='Test (coarse)')\n",
    "plt.plot(n_estimator_range,ETC_critical_accuracy[1],'--g^',label='Critical (coarse)')\n",
    "\n",
    "plt.plot(n_estimator_range,ETC_train_accuracy[0],'o-b',label='Train (fine)')\n",
    "plt.plot(n_estimator_range,ETC_test_accuracy[0],'o-r',label='Test (fine)')\n",
    "plt.plot(n_estimator_range,ETC_critical_accuracy[0],'o-g',label='Critical (fine)')\n",
    "\n",
    "#plt.semilogx(lmbdas,train_accuracy_SGD,'*--b',label='SGD train')\n",
    "\n",
    "plt.xlabel('$N_\\mathrm{estimators}$')\n",
    "plt.ylabel('Accuracy')\n",
    "lgd=plt.legend(bbox_to_anchor=(1.05, 1), loc=2, borderaxespad=0.)\n",
    "plt.savefig(\"Ising_RF.pdf\",bbox_extra_artists=(lgd,), bbox_inches='tight')\n",
    "\n",
    "plt.show()\n",
    "\n",
    "plt.plot(n_estimator_range, run_time[1], '--k^',label='Coarse')\n",
    "plt.plot(n_estimator_range, run_time[0], 'o-k',label='Fine')\n",
    "plt.xlabel('$N_\\mathrm{estimators}$')\n",
    "plt.ylabel('Run time (s)')\n",
    "\n",
    "\n",
    "plt.legend(loc=2)\n",
    "#plt.savefig(\"Ising_ETC_Runtime.pdf\")\n",
    "\n",
    "plt.show()"
   ]
  },
  {
   "cell_type": "markdown",
   "metadata": {
    "collapsed": true
   },
   "source": [
    "### Exercises: ###  \n",
    "<ul>\n",
    "\n",
    "<li> [Random Forest] Consider $B$ random variables, each with variance $\\sigma^2$. Show that **1)** If these random variables are i.i.d., then their average has a variance $\\frac{1}{B}\\sigma^2$. **2)** If they are only i.d. (i.e. identically distributed but not necessarily independent) with positive pairwise correlation $\\rho$, then the variance of their average is  $\\rho\\sigma^2+\\frac{1-\\rho}{B}\\sigma^2$. In this case, what does $B\\gg 1$ imply? Justify that *by random selection of input features, random forest improves the variance reduction of bagging by reducing the correlation between the trees without dramatic increase of variance*.\n",
    "\n",
    "<li> [OOB] For a data set with $N$ samples, what's the probability that one of samples, say $(\\boldsymbol{x}_n,y_n)$, is never sampled after bootstrapping $N'$ times? Show that if $N'=N$ and $N\\gg 1$, this probability is approximately $e^{-1}$. \n",
    "\n",
    "<li> [OOB] Following the previous question, if $N'=pN$ and assuming $N\\gg 1$, argue that $Ne^{-p}$ examples in the data set will never be sampled at all.\n",
    "</ul>\n",
    "\n",
    "Add discussion on earlier stuff (i.e. Description)"
   ]
  },
  {
   "cell_type": "markdown",
   "metadata": {},
   "source": [
    "# Answers:"
   ]
  },
  {
   "cell_type": "markdown",
   "metadata": {},
   "source": [
    "Under i.i.d. condition, we can apply following two equations to \n",
    "\n",
    "\\begin{align}\n",
    "Var_B(M_n) = \\frac{1}{B-1}\\sum_{k=1}^B(M_n^{(k)}-\\bar{M}_n)^2\\\\\n",
    "\\text{where   } \\bar{M}_n = \\frac{1}{B}\\sum_{k=1}^B M_n^{(k)}\n",
    "\\end{align}\n",
    "\n",
    "where the average variance is \n",
    "\\begin{align}\n",
    "\\text{Var}(\\bar{M}_n) = \\frac{1}{B^2}\\text{Var}\\left(\\sum_{i=1}^B M_n^{(i)}\\right)=\\frac{1}{B^2}\\text{Var}(M_n^{(1)}...M_n^{(B)})\n",
    "\\end{align}\n",
    "\n",
    "for i.i.d. where i = j and Var($M_n^{(i)}) = \\sigma^2$\n",
    "\\begin{align}\n",
    "\\text{Var}(\\bar{M}_n)& = \\frac{1}{B^2}(\\sigma^2+\\sigma^2+...)=\\frac{1}{B^2}B*\\sigma^2\\\\\n",
    "&= \\boxed{\\frac{1}{B}\\sigma^2}\n",
    "\\end{align}\n",
    "\n",
    "for i.d., where $i\\neq j$, so that we can separate varince into two sum. In addition $\\text{Cov}(M_n^{(i)},M_n^{(j)}) = \\rho\\sigma^2$ when variances are identical. Therefore,\n",
    "\n",
    "\\begin{align}\n",
    "\\text{Var}(\\bar{M}_n) &= \\frac{1}{B^2}\\sum_{i=1}^B M_n^{(i)}\\sum_{j=1}^BM_n^{(j)}=\\frac{1}{B^2}\\sum_{i=1}^B\\sum_{j=1}^B \\text{Cov}(M_n^{(i)},M_n^{(j)})\\\\\n",
    "&=\\frac{1}{B^2}\\left(\\sum_{i=j=1}^B \\text{Cov}(M_n^{(i)},M_n^{(j)})+\\sum_{i\\neq j=1}^B \\text{Cov}(M_n^{(i)},M_n^{(j)})  \\right)\\\\\n",
    "&=\\frac{1}{B^2}\\left(B\\sigma^2+B(B-1)\\rho\\sigma^2\\right) = \\boxed{\\rho\\sigma^2+\\frac{(1-\\rho)}{B}\\sigma^2}\n",
    "\\end{align}\n",
    "\n",
    "In this care if B>>1, then\n",
    "\\begin{align}\n",
    "\\lim_{B\\to\\infty} \\text{Var}(\\bar{M}_n) = \\rho\\sigma^2 = \\frac{1}{B(B-1)}\\sum_{i\\neq j=1}^B\\text{Cov}(M_n^{(i)},M_n^{(j)}) \n",
    "\\end{align}"
   ]
  },
  {
   "cell_type": "markdown",
   "metadata": {},
   "source": [
    "So, we have N samples, the probability of finding one sample is $\\frac{1}{N}$, the probability of not finding one sample is $1-\\frac{1}{N}$. If we never sampled the point after bootstrapping N' times, our probability, $$P = \\left(1-\\frac{1}{N}\\right)^{N'}$$ If N' = N and N $\\gg$ 1, then $$P = \\left(1-\\frac{1}{N}\\right)^{N'} = e^{-1}$$ The following code verify my answer,"
   ]
  },
  {
   "cell_type": "code",
   "execution_count": 13,
   "metadata": {
    "scrolled": true
   },
   "outputs": [
    {
     "name": "stdout",
     "output_type": "stream",
     "text": [
      "exp(-1):  0.36787944117144233\n",
      "(1-1/N)^N:  0.3678776017682465\n"
     ]
    }
   ],
   "source": [
    "import numpy as np\n",
    "print('exp(-1): ',np.exp(-1))\n",
    "N = 100000\n",
    "N1 = N\n",
    "\n",
    "print('(1-1/N)^N: ',(1-1/N)**N1)"
   ]
  },
  {
   "cell_type": "markdown",
   "metadata": {},
   "source": [
    "Following the previous question, we found $$P = \\left(1-\\frac{1}{N}\\right)^{N'}$$ In this case we have $N' = pN$, substitute in, $$P = \\left(1-\\frac{1}{N}\\right)^{N'}=\\left(1-\\frac{1}{N}\\right)^{pN}=\\left(\\left(1-\\frac{1}{N}\\right)^{N}\\right)^p= (e^{-1})^p$$. Therefore, the probability not finding a sample is $(e^{-1})^p$. However, we have N samples, $Ne^{-p}$ examples in the data set will never be sampled at all. Following expression proves my answer."
   ]
  },
  {
   "cell_type": "code",
   "execution_count": 15,
   "metadata": {},
   "outputs": [
    {
     "name": "stdout",
     "output_type": "stream",
     "text": [
      "exp(-p):  4.5399929762484854e-05\n",
      "(1-1/N)^pN:  4.537723395901116e-05\n"
     ]
    }
   ],
   "source": [
    "import numpy as np\n",
    "\n",
    "N = 10000\n",
    "p = 10\n",
    "N1 = p*N\n",
    "print('exp(-p): ',np.exp(-p))\n",
    "print('(1-1/N)^pN: ',(1-1/N)**N1)"
   ]
  },
  {
   "cell_type": "code",
   "execution_count": null,
   "metadata": {},
   "outputs": [],
   "source": [
    "ADR: need more discussion re overall notebook 1.75/2"
   ]
  }
 ],
 "metadata": {
  "anaconda-cloud": {},
  "kernelspec": {
   "display_name": "Python 3",
   "language": "python",
   "name": "python3"
  },
  "language_info": {
   "codemirror_mode": {
    "name": "ipython",
    "version": 3
   },
   "file_extension": ".py",
   "mimetype": "text/x-python",
   "name": "python",
   "nbconvert_exporter": "python",
   "pygments_lexer": "ipython3",
   "version": "3.8.5"
  }
 },
 "nbformat": 4,
 "nbformat_minor": 2
}
