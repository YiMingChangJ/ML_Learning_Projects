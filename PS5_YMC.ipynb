{
 "cells": [
  {
   "cell_type": "markdown",
   "metadata": {},
   "source": [
    "# Problem Set 5: Recognized and classify the digital handwriting with CNN\n",
    "Yi Ming Chang <br>\n",
    "B00751897<br>\n",
    "April 23th, 2021"
   ]
  },
  {
   "cell_type": "markdown",
   "metadata": {},
   "source": [
    "I have tried to run several the bird species classification codes using PyTorch with CNN model, but none of them works. So I decide to play with the digital handwriting classification codes with CNN model. The following code is retrieved from this website: https://www.kaggle.com/cdeotte/25-million-images-0-99757-mnist and https://www.kaggle.com/arunkumarramanan/awesome-deep-learning-with-cnn-mnist-classifier. Since, having one code seems like this too short. I have also found something interesting, handwriting math equations, handwriting chinese characters, for example. But they are only for a case.\n",
    "\n",
    "In this Problem set, it contains two different sections. One is from https://www.kaggle.com/cdeotte/25-million-images-0-99757-mnist, other is from https://www.kaggle.com/arunkumarramanan/awesome-deep-learning-with-cnn-mnist-classifier. Since there is no question or rubric for this problem. I will simply explain what I have learned and changed (debugged) from the codes. Also varying the parameters or the loss function inside the code to see if I could improve them."
   ]
  },
  {
   "cell_type": "markdown",
   "metadata": {},
   "source": [
    "# Section 1 "
   ]
  },
  {
   "cell_type": "markdown",
   "metadata": {},
   "source": [
    "This section uses an ensembles of 15 CNNs to classify Kaggle's MNIST digits. There are 42,000 images in training dataset. In addition, another 25 million images will be created by rotating, scaling, and shifting training dataset. So 25,042,000 images in total. "
   ]
  },
  {
   "cell_type": "code",
   "execution_count": 23,
   "metadata": {
    "_cell_guid": "79c7e3d0-c299-4dcb-8224-4455121ee9b0",
    "_kg_hide-input": true,
    "_kg_hide-output": true,
    "_uuid": "d629ff2d2480ee46fbb7e2d37f6b5fab8052498a"
   },
   "outputs": [],
   "source": [
    "# LOAD LIBRARIES\n",
    "import pandas as pd\n",
    "import numpy as np\n",
    "from sklearn.model_selection import train_test_split\n",
    "from keras.utils.np_utils import to_categorical\n",
    "from keras.models import Sequential\n",
    "from keras.layers import Dense, Dropout, Flatten, Conv2D, MaxPool2D, BatchNormalization\n",
    "from keras.preprocessing.image import ImageDataGenerator\n",
    "from keras.callbacks import LearningRateScheduler"
   ]
  },
  {
   "cell_type": "markdown",
   "metadata": {
    "_uuid": "cd31c62c12088bfa6f2b26dcecc714182627c767"
   },
   "source": [
    "# Load Kaggle's 42,000 training images"
   ]
  },
  {
   "cell_type": "code",
   "execution_count": 24,
   "metadata": {
    "_uuid": "d71b3fa2b10620dc8870352fc18d4548f824a88a"
   },
   "outputs": [],
   "source": [
    "# LOAD THE DATA\n",
    "folder = 'C://Users//Yi Ming Chang//Desktop//Dal//PHYC 4250 Topics in Numerical Computing//Problem Sets//Problem set 5//'\n",
    "train = pd.read_csv(folder + 'train.csv')\n",
    "test = pd.read_csv(folder + 'test.csv')"
   ]
  },
  {
   "cell_type": "code",
   "execution_count": 45,
   "metadata": {
    "_kg_hide-input": true,
    "_uuid": "b3c56055d1ba56d28d982f9647c33439c46753ff"
   },
   "outputs": [],
   "source": [
    "# PREPARE DATA FOR NEURAL NETWORK\n",
    "# Load training and eval data\n",
    "\n",
    "Y_train = train[\"label\"]\n",
    "X_train = train.drop(labels = [\"label\"],axis = 1)\n",
    "X_train = X_train / 255.0\n",
    "X_test = test / 255.0\n",
    "X_train = X_train.values.reshape(-1,28,28,1)\n",
    "X_test = X_test.values.reshape(-1,28,28,1)\n",
    "Y_train = to_categorical(Y_train, num_classes = 10)"
   ]
  },
  {
   "cell_type": "code",
   "execution_count": 46,
   "metadata": {
    "_kg_hide-input": true,
    "_uuid": "b95ca2c1e71cb5457684eff3c35bb8d68b4a0f97"
   },
   "outputs": [
    {
     "data": {
      "image/png": "[encoded data removed]",
      "text/plain": [
       "<Figure size 1080x324 with 30 Axes>"
      ]
     },
     "metadata": {
      "needs_background": "light"
     },
     "output_type": "display_data"
    }
   ],
   "source": [
    "import matplotlib.pyplot as plt\n",
    "# PREVIEW IMAGES\n",
    "plt.figure(figsize=(15,4.5))\n",
    "for i in range(30):  \n",
    "    plt.subplot(3, 10, i+1)\n",
    "    plt.imshow(X_train[i].reshape((28,28)),cmap=plt.cm.binary)\n",
    "    plt.axis('off')\n",
    "plt.subplots_adjust(wspace=-0.1, hspace=-0.1)\n",
    "plt.show()"
   ]
  },
  {
   "cell_type": "markdown",
   "metadata": {
    "_uuid": "cfcb89d7d2dab632986e80d9f68d194c3c1c9e9f"
   },
   "source": [
    "# Generate 25 million more images\n",
    "by randomly rotating, scaling, and shifting Kaggle's 42,000 images."
   ]
  },
  {
   "cell_type": "code",
   "execution_count": 42,
   "metadata": {
    "_uuid": "1e61e07d14b9b012748fdaac9eaf02e5263a475e"
   },
   "outputs": [],
   "source": [
    "# CREATE MORE IMAGES VIA DATA AUGMENTATION\n",
    "datagen = ImageDataGenerator(\n",
    "        rotation_range=10,  \n",
    "        zoom_range = 0.10,  \n",
    "        width_shift_range=0.1, \n",
    "        height_shift_range=0.1)"
   ]
  },
  {
   "cell_type": "code",
   "execution_count": 43,
   "metadata": {
    "_kg_hide-input": true,
    "_uuid": "fcf6daaae4424b95978856d7e75271c97b971c71"
   },
   "outputs": [
    {
     "ename": "ValueError",
     "evalue": "cannot reshape array of size 1 into shape (1,10)",
     "output_type": "error",
     "traceback": [
      "\u001b[1;31m---------------------------------------------------------------------------\u001b[0m",
      "\u001b[1;31mValueError\u001b[0m                                Traceback (most recent call last)",
      "\u001b[1;32m<ipython-input-43-f09c585554b9>\u001b[0m in \u001b[0;36m<module>\u001b[1;34m\u001b[0m\n\u001b[0;32m      1\u001b[0m \u001b[1;31m# PREVIEW AUGMENTED IMAGES\u001b[0m\u001b[1;33m\u001b[0m\u001b[1;33m\u001b[0m\u001b[1;33m\u001b[0m\u001b[0m\n\u001b[0;32m      2\u001b[0m \u001b[0mX_train3\u001b[0m \u001b[1;33m=\u001b[0m \u001b[0mX_train\u001b[0m\u001b[1;33m[\u001b[0m\u001b[1;36m9\u001b[0m\u001b[1;33m,\u001b[0m\u001b[1;33m]\u001b[0m\u001b[1;33m.\u001b[0m\u001b[0mreshape\u001b[0m\u001b[1;33m(\u001b[0m\u001b[1;33m(\u001b[0m\u001b[1;36m1\u001b[0m\u001b[1;33m,\u001b[0m\u001b[1;36m28\u001b[0m\u001b[1;33m,\u001b[0m\u001b[1;36m28\u001b[0m\u001b[1;33m,\u001b[0m\u001b[1;36m1\u001b[0m\u001b[1;33m)\u001b[0m\u001b[1;33m)\u001b[0m\u001b[1;33m\u001b[0m\u001b[1;33m\u001b[0m\u001b[0m\n\u001b[1;32m----> 3\u001b[1;33m \u001b[0mY_train3\u001b[0m \u001b[1;33m=\u001b[0m \u001b[0mY_train\u001b[0m\u001b[1;33m[\u001b[0m\u001b[1;36m9\u001b[0m\u001b[1;33m,\u001b[0m\u001b[1;33m]\u001b[0m\u001b[1;33m.\u001b[0m\u001b[0mreshape\u001b[0m\u001b[1;33m(\u001b[0m\u001b[1;33m(\u001b[0m\u001b[1;36m1\u001b[0m\u001b[1;33m,\u001b[0m\u001b[1;36m10\u001b[0m\u001b[1;33m)\u001b[0m\u001b[1;33m)\u001b[0m\u001b[1;33m\u001b[0m\u001b[1;33m\u001b[0m\u001b[0m\n\u001b[0m\u001b[0;32m      4\u001b[0m \u001b[0mplt\u001b[0m\u001b[1;33m.\u001b[0m\u001b[0mfigure\u001b[0m\u001b[1;33m(\u001b[0m\u001b[0mfigsize\u001b[0m\u001b[1;33m=\u001b[0m\u001b[1;33m(\u001b[0m\u001b[1;36m15\u001b[0m\u001b[1;33m,\u001b[0m\u001b[1;36m4.5\u001b[0m\u001b[1;33m)\u001b[0m\u001b[1;33m)\u001b[0m\u001b[1;33m\u001b[0m\u001b[1;33m\u001b[0m\u001b[0m\n\u001b[0;32m      5\u001b[0m \u001b[1;32mfor\u001b[0m \u001b[0mi\u001b[0m \u001b[1;32min\u001b[0m \u001b[0mrange\u001b[0m\u001b[1;33m(\u001b[0m\u001b[1;36m30\u001b[0m\u001b[1;33m)\u001b[0m\u001b[1;33m:\u001b[0m\u001b[1;33m\u001b[0m\u001b[1;33m\u001b[0m\u001b[0m\n",
      "\u001b[1;31mValueError\u001b[0m: cannot reshape array of size 1 into shape (1,10)"
     ]
    }
   ],
   "source": [
    "# PREVIEW AUGMENTED IMAGES\n",
    "X_train3 = X_train[9,].reshape((1,28,28,1))\n",
    "Y_train3 = Y_train[9,].reshape((1,10))\n",
    "plt.figure(figsize=(15,4.5))\n",
    "for i in range(30):  \n",
    "    plt.subplot(3, 10, i+1)\n",
    "    X_train2, Y_train2 = datagen.flow(X_train3,Y_train3).next()\n",
    "    plt.imshow(X_train2[0].reshape((28,28)),cmap=plt.cm.binary)\n",
    "    plt.axis('off')\n",
    "    if i==9: X_train3 = X_train[11,].reshape((1,28,28,1))\n",
    "    if i==19: X_train3 = X_train[18,].reshape((1,28,28,1))\n",
    "plt.subplots_adjust(wspace=-0.1, hspace=-0.1)\n",
    "plt.show()"
   ]
  },
  {
   "cell_type": "markdown",
   "metadata": {
    "_uuid": "9ea116cd3688cb26ac79b9fecc7309a1aebf3b63"
   },
   "source": [
    "# Build 15 Convolutional Neural Networks!\n",
    "\n",
    "There are 15 CNNs in total. Each Network includes 9 layers with 426 Neurons. They also use Dropout and Batch Normalization techniques. "
   ]
  },
  {
   "cell_type": "code",
   "execution_count": 44,
   "metadata": {
    "_uuid": "f6703f3f53c659e95579122755454899d842722a"
   },
   "outputs": [],
   "source": [
    "# BUILD CONVOLUTIONAL NEURAL NETWORKS\n",
    "nets = 15\n",
    "model = [0] *nets\n",
    "for j in range(nets):\n",
    "    model[j] = Sequential()\n",
    "\n",
    "    model[j].add(Conv2D(32, kernel_size = 3, activation='relu', input_shape = (28, 28, 1)))\n",
    "    model[j].add(BatchNormalization())\n",
    "    model[j].add(Conv2D(32, kernel_size = 3, activation='relu'))\n",
    "    model[j].add(BatchNormalization())\n",
    "    model[j].add(Conv2D(32, kernel_size = 5, strides=2, padding='same', activation='relu'))\n",
    "    model[j].add(BatchNormalization())\n",
    "    model[j].add(Dropout(0.4))\n",
    "\n",
    "    model[j].add(Conv2D(64, kernel_size = 3, activation='relu'))\n",
    "    model[j].add(BatchNormalization())\n",
    "    model[j].add(Conv2D(64, kernel_size = 3, activation='relu'))\n",
    "    model[j].add(BatchNormalization())\n",
    "    model[j].add(Conv2D(64, kernel_size = 5, strides=2, padding='same', activation='relu'))\n",
    "    model[j].add(BatchNormalization())\n",
    "    model[j].add(Dropout(0.4))\n",
    "\n",
    "    model[j].add(Conv2D(128, kernel_size = 4, activation='relu'))\n",
    "    model[j].add(BatchNormalization())\n",
    "    model[j].add(Flatten())\n",
    "    model[j].add(Dropout(0.4))\n",
    "    model[j].add(Dense(10, activation='softmax'))\n",
    "\n",
    "    # COMPILE WITH ADAM OPTIMIZER AND CROSS ENTROPY COST\n",
    "    model[j].compile(optimizer=\"adam\", loss=\"categorical_crossentropy\", metrics=[\"accuracy\"])"
   ]
  },
  {
   "cell_type": "markdown",
   "metadata": {
    "_uuid": "843d2cb58465b81404c47559ceaf96c139ff82da"
   },
   "source": [
    "# Architectural highlights\n",
    "![LeNet5](http://playagricola.com/Kaggle/LeNet5.png)\n",
    "The CNNs in this kernel follow [LeNet5's][1] design (pictured above) with the following improvements:  \n",
    "* Two stacked 3x3 filters replace the single 5x5 filters. These become nonlinear 5x5 convolutions\n",
    "* A convolution with stride 2 replaces pooling layers. These become learnable pooling layers.\n",
    "* ReLU activation replaces sigmoid.\n",
    "* Batch normalization is added\n",
    "* Dropout is added\n",
    "* More feature maps (channels) are added\n",
    "* An ensemble of 15 CNNs with bagging is used  \n",
    "  \n",
    "Experiments [(here)][2] show that each of these changes improve classification accuracy.\n",
    "\n",
    "[1]:http://yann.lecun.com/exdb/publis/pdf/lecun-01a.pdf\n",
    "[2]:https://www.kaggle.com/cdeotte/how-to-choose-cnn-architecture-mnist"
   ]
  },
  {
   "cell_type": "markdown",
   "metadata": {
    "_uuid": "e433661c7762b947c0fbfc4ad3f5e1d2e056312c"
   },
   "source": [
    "# Train 15 CNNs"
   ]
  },
  {
   "cell_type": "code",
   "execution_count": 34,
   "metadata": {
    "_uuid": "9f1dd8a54aa0fab8530c0095f7d4c4b35984ea6d"
   },
   "outputs": [
    {
     "name": "stdout",
     "output_type": "stream",
     "text": [
      "CNN 1: Epochs=1, Train accuracy=0.84638, Validation accuracy=0.97167\n",
      "CNN 2: Epochs=1, Train accuracy=0.85330, Validation accuracy=0.88452\n",
      "CNN 3: Epochs=1, Train accuracy=0.84124, Validation accuracy=0.97024\n",
      "CNN 4: Epochs=1, Train accuracy=0.85698, Validation accuracy=0.95071\n",
      "CNN 5: Epochs=1, Train accuracy=0.85420, Validation accuracy=0.97548\n",
      "CNN 6: Epochs=1, Train accuracy=0.85942, Validation accuracy=0.96738\n",
      "CNN 7: Epochs=1, Train accuracy=0.86130, Validation accuracy=0.98024\n",
      "CNN 8: Epochs=1, Train accuracy=0.86294, Validation accuracy=0.95738\n",
      "CNN 9: Epochs=1, Train accuracy=0.85285, Validation accuracy=0.90833\n",
      "CNN 10: Epochs=1, Train accuracy=0.84733, Validation accuracy=0.96667\n",
      "CNN 11: Epochs=1, Train accuracy=0.85346, Validation accuracy=0.96262\n",
      "CNN 12: Epochs=1, Train accuracy=0.85385, Validation accuracy=0.97429\n",
      "CNN 13: Epochs=1, Train accuracy=0.86559, Validation accuracy=0.96738\n",
      "CNN 14: Epochs=1, Train accuracy=0.85905, Validation accuracy=0.96643\n",
      "CNN 15: Epochs=1, Train accuracy=0.85767, Validation accuracy=0.97690\n"
     ]
    }
   ],
   "source": [
    "# DECREASE LEARNING RATE EACH EPOCH\n",
    "annealer = LearningRateScheduler(lambda x: 1e-3 * 0.95 ** x)\n",
    "# TRAIN NETWORKS\n",
    "history = [0] * nets\n",
    "epochs = 1\n",
    "for j in range(nets):\n",
    "    X_train2, X_val2, Y_train2, Y_val2 = train_test_split(X_train, Y_train, test_size = 0.1)\n",
    "    history[j] = model[j].fit_generator(datagen.flow(X_train2,Y_train2, batch_size=64),\n",
    "        epochs = epochs, steps_per_epoch = X_train2.shape[0]//64,  \n",
    "        validation_data = (X_val2,Y_val2), callbacks=[annealer], verbose=0)\n",
    "    print(\"CNN {0:d}: Epochs={1:d}, Train accuracy={2:.5f}, Validation accuracy={3:.5f}\".format(\n",
    "        j+1,epochs,max(history[j].history['accuracy']),max(history[j].history['val_accuracy']) ))"
   ]
  },
  {
   "cell_type": "markdown",
   "metadata": {
    "_uuid": "28b78b6502d2d1c993555725383f3e30728fa5be"
   },
   "source": [
    "# Ensemble 15 CNN predictions and submit"
   ]
  },
  {
   "cell_type": "code",
   "execution_count": 35,
   "metadata": {
    "_uuid": "6e4e01ffe692c34c555bdbf5d606611f9a128b9c"
   },
   "outputs": [],
   "source": [
    "# ENSEMBLE PREDICTIONS AND SUBMIT\n",
    "results = np.zeros( (X_test.shape[0],10) ) \n",
    "for j in range(nets):\n",
    "    results = results + model[j].predict(X_test)\n",
    "results = np.argmax(results,axis = 1)\n",
    "results = pd.Series(results,name=\"Label\")\n",
    "submission = pd.concat([pd.Series(range(1,28001),name = \"ImageId\"),results],axis = 1)\n",
    "submission.to_csv(\"MNIST-CNN-ENSEMBLE.csv\",index=False)"
   ]
  },
  {
   "cell_type": "code",
   "execution_count": 36,
   "metadata": {
    "_kg_hide-input": true,
    "_uuid": "4a9d7710a3b69c2b48bc1687e5b6a27a7076f40a"
   },
   "outputs": [
    {
     "data": {
      "image/png": "[encoded data removed]",
      "text/plain": [
       "<Figure size 1080x432 with 40 Axes>"
      ]
     },
     "metadata": {
      "needs_background": "light"
     },
     "output_type": "display_data"
    }
   ],
   "source": [
    "# PREVIEW PREDICTIONS\n",
    "plt.figure(figsize=(15,6))\n",
    "for i in range(40):  \n",
    "    plt.subplot(4, 10, i+1)\n",
    "    plt.imshow(X_test[i].reshape((28,28)),cmap=plt.cm.binary)\n",
    "    plt.title(\"predict=%d\" % results[i],y=0.9)\n",
    "    plt.axis('off')\n",
    "plt.subplots_adjust(wspace=0.3, hspace=-0.1)\n",
    "plt.show()"
   ]
  },
  {
   "cell_type": "markdown",
   "metadata": {
    "_uuid": "b4d3e3246313e8bcb15c6b485540368d9297537b"
   },
   "source": [
    "Although the accuracy in original code has 99.75%. I have only obtained 98.0% (the highest). Since originally they have 15 epochs, but it takes forever to run, so I reduce it into 1 in order to save time. I have switched the activation function, but still 'relu' works the best. Also, most acticles indicate choosing 'Relu' as activation function for Convolutional Neural Net. According to the website, their publication has highest accuarcy compare with other methods (99.7%-99.79%). Where is shown in the images below."
   ]
  },
  {
   "cell_type": "markdown",
   "metadata": {
    "_uuid": "372eaad5737aeef94f084c9c3317f6537db2cf2f"
   },
   "source": [
    "\n",
    "![hist](http://playagricola.com/Kaggle/KaggleMNISThist3.png)\n",
    "\n",
    "[1]:https://cs.nyu.edu/~wanli/dropc/dropc.pdf\n",
    "[2]:http://people.idsia.ch/~ciresan/data/cvpr2012.pdf\n",
    "[3]:https://arxiv.org/abs/1505.03229\n",
    "[4]:https://arxiv.org/abs/1511.02583\n",
    "[5]:https://arxiv.org/abs/1509.08985\n",
    "[7]:http://rodrigob.github.io/are_we_there_yet/build/classification_datasets_results.html\n",
    "[8]:http://yann.lecun.com/exdb/mnist/\n",
    "[9]:https://en.wikipedia.org/wiki/MNIST_database\n",
    "[10]:https://www.kaggle.com/cdeotte/mnist-perfect-100-using-knn/\n",
    "[12]:https://www.kaggle.com/cdeotte/35-million-images-0-99757-mnist\n",
    "[13]:http://people.idsia.ch/~ciresan/data/icdar2011a.pdf\n",
    "[14]:http://www.mva-org.jp/Proceedings/2015USB/papers/14-21.pdf"
   ]
  },
  {
   "cell_type": "markdown",
   "metadata": {},
   "source": [
    "# Section 2:\n",
    "\n",
    "This section built a CNN model using using TensorFlow Estimators. In order to make it run, I add 'tf.compat.v1' to all tf... They use The [MNIST dataset](http://yann.lecun.com/exdb/mnist/) comprises 60,000 training examples and 10,000 test examples of the handwritten digits 0–9, formatted as 28x28-pixel monochrome images. "
   ]
  },
  {
   "cell_type": "code",
   "execution_count": 37,
   "metadata": {},
   "outputs": [],
   "source": [
    "from __future__ import absolute_import, division, print_function\n",
    "\n",
    "import tensorflow as tf\n",
    "import numpy as np\n",
    "\n",
    "tf.compat.v1.logging.set_verbosity(tf.compat.v1.logging.INFO)"
   ]
  },
  {
   "cell_type": "markdown",
   "metadata": {},
   "source": [
    "## Building the CNN MNIST Classifier\n",
    "\n",
    "\n",
    "1.  **Convolutional Layer #1**: Applies 32 5x5 filters (extracting 5x5-pixel subregions), with ReLU activation function\n",
    "2.  **Pooling Layer #1**: Performs max pooling with a 2x2 filter and stride of 2 (which specifies that pooled regions do not overlap)\n",
    "3.  **Convolutional Layer #2**: Applies 64 5x5 filters, with ReLU activation function\n",
    "4.  **Pooling Layer #2**: Again, performs max pooling with a 2x2 filter and stride of 2\n",
    "5.  **Dense Layer #1**: 1,024 neurons, with dropout regularization rate of 0.4 (probability of 0.4 that any given element will be dropped during training)\n",
    "6.  **Dense Layer #2 (Logits Layer)**: 10 neurons, one for each digit target class (0–9).\n",
    "\n",
    "The CNNs apply a series of filters to the raw pixel data of an image to extract and learn higher-level features. The `tf.compat.v1.layers` module contains methods to create each of the three layer types\n",
    "above:\n",
    "\n",
    "*   `conv2d()`. Constructs a two-dimensional convolutional layer. \n",
    "*   `max_pooling2d()`. Constructs a two-dimensional pooling layer using the max-pooling algorithm. \n",
    "*   `dense()`. Constructs a dense layer. \n",
    "\n",
    "Each of these methods accepts a tensor as input and returns a transformed tensor as output. This function takes MNIST feature data, labels, and mode (from `tf.estimator.ModeKeys`: `TRAIN`, `EVAL`, `PREDICT`) as arguments; configures the CNN; and returns predictions, loss, and a training operation:"
   ]
  },
  {
   "cell_type": "code",
   "execution_count": 38,
   "metadata": {},
   "outputs": [],
   "source": [
    "def cnn_model_fn(features, labels, mode):\n",
    "  \"\"\"Model function for CNN.\"\"\"\n",
    "  # Input Layer\n",
    "  input_layer = tf.reshape(features[\"x\"], [-1, 28, 28, 1])\n",
    "\n",
    "  # Convolutional Layer #1\n",
    "  conv1 = tf.compat.v1.layers.conv2d(\n",
    "      inputs=input_layer,\n",
    "      filters=32,\n",
    "      kernel_size=[5, 5],\n",
    "      padding=\"same\",\n",
    "      activation=tf.nn.relu)\n",
    "\n",
    "  # Pooling Layer #1\n",
    "  pool1 = tf.compat.v1.layers.max_pooling2d(inputs=conv1, pool_size=[2, 2], strides=2)\n",
    "\n",
    "  # Convolutional Layer #2 and Pooling Layer #2\n",
    "  conv2 = tf.compat.v1.layers.conv2d(\n",
    "      inputs=pool1,\n",
    "      filters=64,\n",
    "      kernel_size=[5, 5],\n",
    "      padding=\"same\",\n",
    "      activation=tf.nn.relu)\n",
    "  pool2 = tf.compat.v1.layers.max_pooling2d(inputs=conv2, pool_size=[2, 2], strides=2)\n",
    "\n",
    "  # Dense Layer\n",
    "  pool2_flat = tf.reshape(pool2, [-1, 7 * 7 * 64])\n",
    "  dense = tf.compat.v1.layers.dense(inputs=pool2_flat, units=1024, activation=tf.nn.relu)\n",
    "  dropout = tf.compat.v1.layers.dropout(\n",
    "      inputs=dense, rate=0.4, training=mode == tf.estimator.ModeKeys.TRAIN)\n",
    "\n",
    "  # Logits Layer\n",
    "  logits = tf.compat.v1.layers.dense(inputs=dropout, units=10)\n",
    "\n",
    "  predictions = {\n",
    "      # Generate predictions (for PREDICT and EVAL mode)\n",
    "      \"classes\": tf.argmax(input=logits, axis=1),\n",
    "      # Add `softmax_tensor` to the graph. It is used for PREDICT and by the\n",
    "      # `logging_hook`.\n",
    "      \"probabilities\": tf.nn.softmax(logits, name=\"softmax_tensor\")\n",
    "  }\n",
    "\n",
    "  if mode == tf.estimator.ModeKeys.PREDICT:\n",
    "    return tf.estimator.EstimatorSpec(mode=mode, predictions=predictions)\n",
    "\n",
    "  # Calculate Loss (for both TRAIN and EVAL modes)\n",
    "  loss = tf.compat.v1.losses.sparse_softmax_cross_entropy(labels=labels, logits=logits)\n",
    "\n",
    "  # Configure the Training Op (for TRAIN mode)\n",
    "  if mode == tf.estimator.ModeKeys.TRAIN:\n",
    "    optimizer = tf.compat.v1.train.GradientDescentOptimizer(learning_rate=0.001)\n",
    "    train_op = optimizer.minimize(\n",
    "        loss=loss,\n",
    "        global_step=tf.compat.v1.train.get_global_step())\n",
    "    return tf.estimator.EstimatorSpec(mode=mode, loss=loss, train_op=train_op)\n",
    "\n",
    "  # Add evaluation metrics (for EVAL mode)\n",
    "  eval_metric_ops = {\n",
    "      \"accuracy\": tf.compat.v1.metrics.accuracy(\n",
    "          labels=labels, predictions=predictions[\"classes\"])\n",
    "  }\n",
    "  return tf.estimator.EstimatorSpec(\n",
    "      mode=mode, loss=loss, eval_metric_ops=eval_metric_ops)"
   ]
  },
  {
   "cell_type": "markdown",
   "metadata": {},
   "source": [
    "### Load Training and Test Data\n",
    "\n",
    "First, let's load our training and test data with the following code:"
   ]
  },
  {
   "cell_type": "code",
   "execution_count": 14,
   "metadata": {},
   "outputs": [],
   "source": [
    "# Load training and eval data\n",
    "((train_data, train_labels), (eval_data, eval_labels)) = tf.keras.datasets.mnist.load_data()\n",
    "\n",
    "train_data = train_data/np.float32(255)\n",
    "train_labels = train_labels.astype(np.int32)  # not required\n",
    "\n",
    "eval_data = eval_data/np.float32(255)\n",
    "eval_labels = eval_labels.astype(np.int32)  # not required"
   ]
  },
  {
   "cell_type": "markdown",
   "metadata": {},
   "source": [
    "We store the training feature data (the raw pixel values for 55,000 images of\n",
    "hand-drawn digits) and training labels (the corresponding value from 0–9 for\n",
    "each image) as [numpy\n",
    "arrays](https://docs.scipy.org/doc/numpy/reference/generated/numpy.array.html)\n",
    "in `train_data` and `train_labels`, respectively. Similarly, we store the\n",
    "evaluation feature data (10,000 images) and evaluation labels in `eval_data`\n",
    "and `eval_labels`, respectively\n",
    "\n",
    "### Create the Estimator\n",
    "\n",
    "Next, let's create an `Estimator` (a TensorFlow class for performing high-level\n",
    "model training, evaluation, and inference) for our model. Add the following code\n",
    "to `main()`:"
   ]
  },
  {
   "cell_type": "code",
   "execution_count": 39,
   "metadata": {},
   "outputs": [
    {
     "name": "stdout",
     "output_type": "stream",
     "text": [
      "INFO:tensorflow:Using default config.\n",
      "INFO:tensorflow:Using config: {'_model_dir': '/tmp/mnist_convnet_model', '_tf_random_seed': None, '_save_summary_steps': 100, '_save_checkpoints_steps': None, '_save_checkpoints_secs': 600, '_session_config': allow_soft_placement: true\n",
      "graph_options {\n",
      "  rewrite_options {\n",
      "    meta_optimizer_iterations: ONE\n",
      "  }\n",
      "}\n",
      ", '_keep_checkpoint_max': 5, '_keep_checkpoint_every_n_hours': 10000, '_log_step_count_steps': 100, '_train_distribute': None, '_device_fn': None, '_protocol': None, '_eval_distribute': None, '_experimental_distribute': None, '_experimental_max_worker_delay_secs': None, '_session_creation_timeout_secs': 7200, '_service': None, '_cluster_spec': ClusterSpec({}), '_task_type': 'worker', '_task_id': 0, '_global_id_in_cluster': 0, '_master': '', '_evaluation_master': '', '_is_chief': True, '_num_ps_replicas': 0, '_num_worker_replicas': 1}\n"
     ]
    }
   ],
   "source": [
    "# Create the Estimator\n",
    "mnist_classifier = tf.estimator.Estimator(\n",
    "    model_fn=cnn_model_fn, model_dir=\"/tmp/mnist_convnet_model\")"
   ]
  },
  {
   "cell_type": "markdown",
   "metadata": {},
   "source": [
    "### Set Up a Logging Hook\n",
    "\n",
    "Since CNNs can take a while to train, let's set up some logging so we can track progress during training. We can use TensorFlow's `tf.compat.v1.train.SessionRunHook` to create a `tf.compat.v1.train.LoggingTensorHook` that will log the probability values from the softmax layer of our CNN. Add the following to `main()`:"
   ]
  },
  {
   "cell_type": "code",
   "execution_count": 16,
   "metadata": {},
   "outputs": [],
   "source": [
    "# Set up logging for predictions\n",
    "tensors_to_log = {\"probabilities\": \"softmax_tensor\"}\n",
    "\n",
    "logging_hook = tf.compat.v1.train.LoggingTensorHook(\n",
    "    tensors=tensors_to_log, every_n_iter=50)"
   ]
  },
  {
   "cell_type": "code",
   "execution_count": 17,
   "metadata": {},
   "outputs": [
    {
     "name": "stdout",
     "output_type": "stream",
     "text": [
      "WARNING:tensorflow:From C:\\Users\\Yi Ming Chang\\anaconda3\\envs\\Tensflow\\lib\\site-packages\\tensorflow\\python\\util\\lazy_loader.py:63: The name tf.estimator.inputs is deprecated. Please use tf.compat.v1.estimator.inputs instead.\n",
      "\n",
      "WARNING:tensorflow:From C:\\Users\\Yi Ming Chang\\anaconda3\\envs\\Tensflow\\lib\\site-packages\\tensorflow\\python\\training\\training_util.py:235: Variable.initialized_value (from tensorflow.python.ops.variables) is deprecated and will be removed in a future version.\n",
      "Instructions for updating:\n",
      "Use Variable.read_value. Variables in 2.X are initialized automatically both in eager and graph (inside tf.defun) contexts.\n",
      "WARNING:tensorflow:From C:\\Users\\Yi Ming Chang\\anaconda3\\envs\\Tensflow\\lib\\site-packages\\tensorflow_estimator\\python\\estimator\\inputs\\queues\\feeding_queue_runner.py:60: QueueRunner.__init__ (from tensorflow.python.training.queue_runner_impl) is deprecated and will be removed in a future version.\n",
      "Instructions for updating:\n",
      "To construct input pipelines, use the `tf.data` module.\n",
      "WARNING:tensorflow:From C:\\Users\\Yi Ming Chang\\anaconda3\\envs\\Tensflow\\lib\\site-packages\\tensorflow_estimator\\python\\estimator\\inputs\\queues\\feeding_functions.py:491: add_queue_runner (from tensorflow.python.training.queue_runner_impl) is deprecated and will be removed in a future version.\n",
      "Instructions for updating:\n",
      "To construct input pipelines, use the `tf.data` module.\n",
      "INFO:tensorflow:Calling model_fn.\n",
      "WARNING:tensorflow:From <ipython-input-13-9eb471caa6b8>:7: conv2d (from tensorflow.python.keras.legacy_tf_layers.convolutional) is deprecated and will be removed in a future version.\n",
      "Instructions for updating:\n",
      "Use `tf.keras.layers.Conv2D` instead.\n",
      "WARNING:tensorflow:From C:\\Users\\Yi Ming Chang\\anaconda3\\envs\\Tensflow\\lib\\site-packages\\tensorflow\\python\\keras\\legacy_tf_layers\\convolutional.py:424: Layer.apply (from tensorflow.python.keras.engine.base_layer_v1) is deprecated and will be removed in a future version.\n",
      "Instructions for updating:\n",
      "Please use `layer.__call__` method instead.\n",
      "WARNING:tensorflow:From <ipython-input-13-9eb471caa6b8>:15: max_pooling2d (from tensorflow.python.keras.legacy_tf_layers.pooling) is deprecated and will be removed in a future version.\n",
      "Instructions for updating:\n",
      "Use keras.layers.MaxPooling2D instead.\n",
      "WARNING:tensorflow:From <ipython-input-13-9eb471caa6b8>:28: dense (from tensorflow.python.keras.legacy_tf_layers.core) is deprecated and will be removed in a future version.\n",
      "Instructions for updating:\n",
      "Use keras.layers.Dense instead.\n",
      "WARNING:tensorflow:From <ipython-input-13-9eb471caa6b8>:29: dropout (from tensorflow.python.keras.legacy_tf_layers.core) is deprecated and will be removed in a future version.\n",
      "Instructions for updating:\n",
      "Use keras.layers.dropout instead.\n",
      "INFO:tensorflow:Done calling model_fn.\n",
      "INFO:tensorflow:Create CheckpointSaverHook.\n",
      "INFO:tensorflow:Graph was finalized.\n",
      "INFO:tensorflow:Restoring parameters from /tmp/mnist_convnet_model\\model.ckpt-2002\n",
      "WARNING:tensorflow:From C:\\Users\\Yi Ming Chang\\anaconda3\\envs\\Tensflow\\lib\\site-packages\\tensorflow\\python\\training\\saver.py:1077: get_checkpoint_mtimes (from tensorflow.python.training.checkpoint_management) is deprecated and will be removed in a future version.\n",
      "Instructions for updating:\n",
      "Use standard file utilities to get mtimes.\n",
      "INFO:tensorflow:Running local_init_op.\n",
      "INFO:tensorflow:Done running local_init_op.\n",
      "WARNING:tensorflow:From C:\\Users\\Yi Ming Chang\\anaconda3\\envs\\Tensflow\\lib\\site-packages\\tensorflow\\python\\training\\monitored_session.py:906: start_queue_runners (from tensorflow.python.training.queue_runner_impl) is deprecated and will be removed in a future version.\n",
      "Instructions for updating:\n",
      "To construct input pipelines, use the `tf.data` module.\n",
      "INFO:tensorflow:Calling checkpoint listeners before saving checkpoint 2002...\n",
      "INFO:tensorflow:Saving checkpoints for 2002 into /tmp/mnist_convnet_model\\model.ckpt.\n",
      "INFO:tensorflow:Calling checkpoint listeners after saving checkpoint 2002...\n",
      "INFO:tensorflow:probabilities = [[0.00973691 0.00762213 0.12594713 0.35920405 0.01435187 0.12142815\n",
      "  0.09715708 0.02031228 0.13233525 0.11190511]\n",
      " [0.00304825 0.00220466 0.04691153 0.01420053 0.03207166 0.02110441\n",
      "  0.8400512  0.00147626 0.03392725 0.00500427]\n",
      " [0.00438554 0.62424564 0.04976735 0.04701994 0.01694154 0.0401748\n",
      "  0.04410383 0.04078933 0.09564035 0.03693164]\n",
      " [0.03193036 0.0309222  0.02313087 0.10091062 0.0202187  0.32344654\n",
      "  0.02934055 0.01583275 0.34127906 0.08298833]\n",
      " [0.00731649 0.06527546 0.02194506 0.23797292 0.01414157 0.2540919\n",
      "  0.09523867 0.02409028 0.24550937 0.03441837]\n",
      " [0.8101122  0.00013317 0.01142909 0.00410022 0.01581686 0.12652147\n",
      "  0.02062409 0.00122277 0.00874388 0.00129615]\n",
      " [0.00057492 0.02304042 0.02132734 0.00224624 0.01136721 0.00685076\n",
      "  0.9157655  0.00133518 0.01117906 0.00631332]\n",
      " [0.00471236 0.69562584 0.01935338 0.01358531 0.03988674 0.04742093\n",
      "  0.06847644 0.00906699 0.09332212 0.00854982]\n",
      " [0.02446481 0.00630275 0.02061502 0.01502559 0.01092985 0.5521283\n",
      "  0.00669825 0.00190414 0.35583532 0.00609596]\n",
      " [0.03312589 0.00316796 0.0245568  0.04041374 0.13041471 0.25776616\n",
      "  0.01590501 0.05677665 0.21126217 0.22661088]\n",
      " [0.15689602 0.00001836 0.12296435 0.00820413 0.36003783 0.18888336\n",
      "  0.08054293 0.00951272 0.01122988 0.06171029]\n",
      " [0.001726   0.54096985 0.0395641  0.03010623 0.01764162 0.07594848\n",
      "  0.04874944 0.01130446 0.10908856 0.12490124]\n",
      " [0.3502874  0.00008991 0.01030406 0.00393959 0.00629035 0.48559737\n",
      "  0.01499021 0.01988462 0.10281606 0.00580042]\n",
      " [0.00831707 0.00780469 0.90374315 0.00869344 0.00020976 0.00521509\n",
      "  0.04425819 0.00012736 0.02047565 0.00115571]\n",
      " [0.35397562 0.00043301 0.2582424  0.11918151 0.00118266 0.03409878\n",
      "  0.10505922 0.07512487 0.04498467 0.00771716]\n",
      " [0.04285664 0.00110117 0.15767567 0.35738707 0.0058901  0.16537112\n",
      "  0.00168036 0.15689074 0.10298096 0.00816616]\n",
      " [0.01336949 0.00082188 0.92546254 0.00991165 0.01604449 0.00125603\n",
      "  0.02478695 0.00100476 0.00563101 0.00171127]\n",
      " [0.04112979 0.00771821 0.1641388  0.5181214  0.01081009 0.11022453\n",
      "  0.01142859 0.02047942 0.09787458 0.01807457]\n",
      " [0.00114195 0.00007568 0.00205546 0.00108838 0.75987005 0.00213759\n",
      "  0.00377924 0.01186882 0.00227925 0.21570362]\n",
      " [0.05283255 0.13509639 0.2130613  0.01336222 0.03131133 0.17643258\n",
      "  0.04322588 0.00842067 0.31482092 0.01143618]\n",
      " [0.11166266 0.00008864 0.15231995 0.00857547 0.6237514  0.00668031\n",
      "  0.07661505 0.00948697 0.0024906  0.00832891]\n",
      " [0.00034992 0.00006449 0.00024162 0.00882727 0.00093137 0.00239056\n",
      "  0.00012064 0.9821959  0.00123659 0.00364163]\n",
      " [0.00048597 0.04939076 0.00465745 0.00854977 0.28507498 0.02705097\n",
      "  0.01978417 0.05033651 0.07614009 0.47852933]\n",
      " [0.08175671 0.00143304 0.02403649 0.01566478 0.3069442  0.05234677\n",
      "  0.39318326 0.04698492 0.01633739 0.06131255]\n",
      " [0.00694866 0.01214519 0.06585445 0.0086443  0.01930986 0.02874277\n",
      "  0.8391359  0.00165816 0.01281453 0.00474626]\n",
      " [0.01993083 0.00107444 0.00989791 0.00032356 0.84525603 0.04525176\n",
      "  0.0192345  0.01732764 0.0286705  0.01303281]\n",
      " [0.00179466 0.26838234 0.18065152 0.22278526 0.00206053 0.02920658\n",
      "  0.09557556 0.01225554 0.17837411 0.00891396]\n",
      " [0.00066078 0.0078162  0.07069701 0.0029754  0.04910581 0.00669575\n",
      "  0.84726346 0.00124158 0.00733286 0.00621117]\n",
      " [0.01253205 0.26634815 0.04104398 0.01974885 0.23338324 0.01752651\n",
      "  0.01193657 0.13661438 0.07536908 0.1854971 ]\n",
      " [0.00010439 0.9073519  0.00558046 0.00211205 0.00053583 0.00937635\n",
      "  0.0062129  0.00146862 0.06297573 0.00428181]\n",
      " [0.0128002  0.18408342 0.31740317 0.03077515 0.00327006 0.0490115\n",
      "  0.3720853  0.00113118 0.02620295 0.0032371 ]\n",
      " [0.95316565 0.00005267 0.01301195 0.00467552 0.00228198 0.01582834\n",
      "  0.00284211 0.00206933 0.00564861 0.00042387]\n",
      " [0.18955392 0.00027177 0.00811484 0.18042749 0.11114287 0.45196447\n",
      "  0.00221505 0.01232723 0.02697671 0.01700558]\n",
      " [0.00687725 0.00043567 0.0061408  0.01129149 0.20676775 0.04041424\n",
      "  0.00459335 0.2899962  0.00984993 0.4236333 ]\n",
      " [0.95572376 0.00000245 0.02141083 0.00401441 0.00157601 0.00163696\n",
      "  0.00206562 0.00422367 0.00865174 0.00069473]\n",
      " [0.00377057 0.00978096 0.06460032 0.00240817 0.5096683  0.02216064\n",
      "  0.23303364 0.0068598  0.08515376 0.06256383]\n",
      " [0.02799034 0.0004365  0.04168893 0.00825249 0.02903803 0.0100774\n",
      "  0.8668381  0.00104548 0.01265358 0.00197922]\n",
      " [0.52675194 0.00005672 0.13091166 0.01505901 0.01260165 0.0369183\n",
      "  0.00781137 0.10878792 0.08982718 0.07127436]\n",
      " [0.01461982 0.11150588 0.8011503  0.01275    0.00283033 0.0042828\n",
      "  0.01521333 0.00220169 0.03496503 0.00048083]\n",
      " [0.0123349  0.02384955 0.01125821 0.04160414 0.00920024 0.29006866\n",
      "  0.02607221 0.05356486 0.3653909  0.16665629]\n",
      " [0.8483021  0.00023863 0.03332513 0.02210931 0.00757851 0.05413014\n",
      "  0.006352   0.00559635 0.01999648 0.00237129]\n",
      " [0.00405377 0.00019058 0.07783626 0.03601565 0.6630953  0.01093182\n",
      "  0.01087552 0.04252318 0.00402243 0.1504555 ]\n",
      " [0.9139989  0.00013121 0.00655026 0.00178263 0.00518149 0.0438104\n",
      "  0.00253043 0.01354773 0.01074477 0.00172221]\n",
      " [0.00071514 0.00007545 0.23369262 0.7433613  0.00006907 0.00252765\n",
      "  0.00371995 0.00074257 0.01465263 0.00044355]\n",
      " [0.00022249 0.9062937  0.00681946 0.00879131 0.00157381 0.00286999\n",
      "  0.00681719 0.00460383 0.04113916 0.02086905]\n",
      " [0.9419953  0.00000088 0.04548089 0.00039817 0.00168525 0.00169258\n",
      "  0.00777662 0.00006907 0.00062014 0.00028111]\n",
      " [0.4333943  0.00004429 0.20325612 0.20096816 0.00560302 0.01379986\n",
      "  0.0137355  0.03961682 0.07398801 0.01559379]\n",
      " [0.00180932 0.16607419 0.732323   0.02795598 0.01159852 0.00417987\n",
      "  0.00363217 0.00163895 0.04752828 0.00325962]\n",
      " [0.00022976 0.77485055 0.01353404 0.01036053 0.0118907  0.01641367\n",
      "  0.07777914 0.02145795 0.04828181 0.02520178]\n",
      " [0.00163104 0.01277928 0.01184375 0.00243403 0.6982687  0.01448287\n",
      "  0.05444284 0.0568977  0.02123816 0.12598157]\n",
      " [0.0116419  0.07166059 0.04316032 0.03505115 0.01191166 0.49219626\n",
      "  0.16110945 0.01176226 0.15360884 0.00789771]\n",
      " [0.0040735  0.70756954 0.18821622 0.01696966 0.01133044 0.00675035\n",
      "  0.00304506 0.00882878 0.04858515 0.00463126]\n",
      " [0.03043288 0.01295213 0.35993597 0.07174499 0.00511167 0.00448592\n",
      "  0.00190539 0.11780242 0.3822748  0.01335373]\n",
      " [0.01816173 0.00090005 0.042991   0.66057074 0.00205354 0.03396803\n",
      "  0.00046625 0.05979062 0.17755176 0.00354625]\n",
      " [0.04242239 0.00012229 0.88497806 0.0399677  0.00110481 0.00804904\n",
      "  0.00296534 0.0008376  0.01861085 0.00094204]\n",
      " [0.00259453 0.01184646 0.02480552 0.03747872 0.6081038  0.01345998\n",
      "  0.17143475 0.02061673 0.03478064 0.07487891]\n",
      " [0.03724686 0.00154759 0.03404073 0.5420589  0.00904707 0.18763556\n",
      "  0.03561216 0.03857147 0.06013452 0.05410513]\n",
      " [0.11991733 0.01555767 0.24279729 0.40036696 0.01604259 0.04314476\n",
      "  0.03325354 0.02753159 0.09103467 0.01035361]\n",
      " [0.78416044 0.00002348 0.0309008  0.05153884 0.00144006 0.06175007\n",
      "  0.01311511 0.00201901 0.05352955 0.00152275]\n",
      " [0.8623921  0.00041072 0.0460189  0.03655584 0.00096089 0.02659926\n",
      "  0.00190461 0.00182039 0.02224434 0.00109291]\n",
      " [0.02213454 0.00054825 0.08493236 0.534768   0.00533685 0.26962727\n",
      "  0.03086614 0.00972005 0.02702569 0.01504087]\n",
      " [0.00355313 0.00040663 0.0020547  0.0030183  0.52306473 0.02297427\n",
      "  0.00487749 0.05755817 0.00589457 0.376598  ]\n",
      " [0.36958382 0.00011154 0.02766907 0.10490546 0.08397973 0.28514346\n",
      "  0.00784093 0.00940907 0.09661254 0.01474428]\n",
      " [0.07439841 0.01367275 0.11680915 0.25548986 0.03454714 0.08271121\n",
      "  0.2293828  0.04396003 0.1244535  0.02457515]\n",
      " [0.00043924 0.80558383 0.02007757 0.01800391 0.00146845 0.03239275\n",
      "  0.05908245 0.0035811  0.03331082 0.02606004]\n",
      " [0.00124073 0.6078773  0.00661398 0.08857702 0.01946333 0.0559388\n",
      "  0.02050753 0.03214142 0.10585028 0.06178956]\n",
      " [0.02086584 0.00173282 0.00187457 0.00546961 0.6177494  0.0997112\n",
      "  0.00437232 0.16437042 0.03665851 0.04719537]\n",
      " [0.06102065 0.00464372 0.02644948 0.00538081 0.34154716 0.019086\n",
      "  0.02233747 0.10467699 0.04530856 0.36954924]\n",
      " [0.02434958 0.1808046  0.02223762 0.15170847 0.01324723 0.35044575\n",
      "  0.01929021 0.02080278 0.18715069 0.02996299]\n",
      " [0.01474079 0.0177523  0.80784965 0.08216777 0.00303442 0.0097716\n",
      "  0.01003175 0.00708764 0.04513726 0.00242687]\n",
      " [0.14457595 0.00029233 0.02505733 0.00667673 0.48137096 0.12334833\n",
      "  0.01927226 0.12084057 0.03786866 0.04069684]\n",
      " [0.0158758  0.00577008 0.02611152 0.20480655 0.12279074 0.35606092\n",
      "  0.00584426 0.01444587 0.06001702 0.18827711]\n",
      " [0.004428   0.0040167  0.03559949 0.13094558 0.02228962 0.04591143\n",
      "  0.00278559 0.64461255 0.03748487 0.07192619]\n",
      " [0.90540946 0.00000215 0.02619199 0.00129409 0.00118459 0.01453591\n",
      "  0.04708695 0.00109561 0.0019123  0.00128684]\n",
      " [0.01673085 0.08859076 0.18169999 0.09810779 0.02657683 0.1937936\n",
      "  0.1060234  0.05532844 0.0854956  0.14765275]\n",
      " [0.03027202 0.02334776 0.08825088 0.04886037 0.01140847 0.34603578\n",
      "  0.01009228 0.01102377 0.4175829  0.01312582]\n",
      " [0.01079448 0.07953814 0.0258026  0.16553812 0.06374943 0.18341185\n",
      "  0.05036925 0.03292337 0.23735242 0.1505203 ]\n",
      " [0.00592475 0.11370255 0.01689751 0.05961795 0.12234007 0.14233482\n",
      "  0.09015121 0.14033069 0.0856128  0.22308758]\n",
      " [0.03936906 0.0023346  0.02411129 0.18739392 0.03482414 0.37758917\n",
      "  0.02474867 0.03239197 0.2230027  0.05423446]\n",
      " [0.00485216 0.07219128 0.06858961 0.2246754  0.02097938 0.13363434\n",
      "  0.27766615 0.00664548 0.17251831 0.01824784]\n",
      " [0.01719386 0.00258106 0.00284215 0.0212915  0.06406305 0.06999586\n",
      "  0.01246031 0.38628986 0.01903423 0.40424815]\n",
      " [0.11320533 0.00081935 0.07894669 0.20652233 0.0252615  0.16615927\n",
      "  0.09193795 0.00831265 0.18967806 0.1191569 ]\n",
      " [0.00025207 0.8283906  0.00868504 0.02200116 0.00255132 0.0098682\n",
      "  0.01790207 0.00997583 0.08742719 0.01294654]\n",
      " [0.0716731  0.00456864 0.065196   0.08370776 0.00868749 0.26927516\n",
      "  0.00419652 0.01210337 0.43535206 0.04523988]\n",
      " [0.00426148 0.00060972 0.00166281 0.03496053 0.08832827 0.02417636\n",
      "  0.00681039 0.55200106 0.02015397 0.26703542]\n",
      " [0.00102959 0.00499448 0.01068853 0.00954062 0.7258413  0.01754727\n",
      "  0.04646294 0.02362918 0.01376162 0.14650452]\n",
      " [0.08531401 0.003592   0.04718667 0.11719219 0.00410195 0.02894876\n",
      "  0.00237242 0.51292604 0.18327712 0.01508884]\n",
      " [0.03768242 0.01092722 0.06474167 0.33725777 0.0247212  0.22306143\n",
      "  0.02552922 0.06442615 0.11607212 0.09558083]\n",
      " [0.00233475 0.03387059 0.04448866 0.16682765 0.16488971 0.09389812\n",
      "  0.02933141 0.06598576 0.26562262 0.13275063]\n",
      " [0.04516122 0.123983   0.03277472 0.06618305 0.00916785 0.3200377\n",
      "  0.02106086 0.05895306 0.31567895 0.00699954]\n",
      " [0.00275401 0.67910033 0.0539915  0.02452302 0.00773899 0.0252142\n",
      "  0.06492332 0.02579148 0.06297661 0.05298664]\n",
      " [0.00788373 0.00352177 0.7627411  0.19520083 0.00091346 0.00594322\n",
      "  0.00114232 0.00278234 0.01927761 0.00059378]\n",
      " [0.00851941 0.0007415  0.8724555  0.05148925 0.00012727 0.0037793\n",
      "  0.00918084 0.00110179 0.0522631  0.00034198]\n",
      " [0.15110883 0.00248996 0.04351422 0.02654781 0.04694583 0.12828663\n",
      "  0.02955163 0.01236291 0.54225385 0.01693823]\n",
      " [0.00376148 0.01152911 0.03904453 0.63926417 0.01194574 0.07454249\n",
      "  0.02525356 0.03633201 0.10325605 0.05507095]\n",
      " [0.00106725 0.61070836 0.05266166 0.06174769 0.00462855 0.03213285\n",
      "  0.01530852 0.00299572 0.21298523 0.00576418]\n",
      " [0.58857787 0.00005953 0.00822581 0.01088454 0.00276283 0.37185487\n",
      "  0.00307803 0.00758303 0.00548279 0.0014906 ]\n",
      " [0.03138019 0.00651136 0.14427626 0.01478381 0.08654358 0.1527877\n",
      "  0.52544624 0.0089603  0.02461298 0.0046976 ]\n",
      " [0.00397708 0.5640589  0.03950585 0.0227995  0.02261105 0.05263478\n",
      "  0.06556001 0.0292601  0.16226237 0.03733037]\n",
      " [0.00638264 0.03935951 0.36955634 0.01388687 0.07165325 0.00719061\n",
      "  0.44172552 0.00305128 0.01515269 0.03204123]]\n"
     ]
    },
    {
     "name": "stdout",
     "output_type": "stream",
     "text": [
      "INFO:tensorflow:loss = 0.975897, step = 2002\n",
      "INFO:tensorflow:Calling checkpoint listeners before saving checkpoint 2003...\n",
      "INFO:tensorflow:Saving checkpoints for 2003 into /tmp/mnist_convnet_model\\model.ckpt.\n",
      "WARNING:tensorflow:From C:\\Users\\Yi Ming Chang\\anaconda3\\envs\\Tensflow\\lib\\site-packages\\tensorflow\\python\\training\\saver.py:969: remove_checkpoint (from tensorflow.python.training.checkpoint_management) is deprecated and will be removed in a future version.\n",
      "Instructions for updating:\n",
      "Use standard file APIs to delete files with this prefix.\n",
      "INFO:tensorflow:Calling checkpoint listeners after saving checkpoint 2003...\n",
      "INFO:tensorflow:Loss for final step: 0.975897.\n"
     ]
    },
    {
     "data": {
      "text/plain": [
       "<tensorflow_estimator.python.estimator.estimator.EstimatorV2 at 0x1bc7c3b3910>"
      ]
     },
     "execution_count": 17,
     "metadata": {},
     "output_type": "execute_result"
    }
   ],
   "source": [
    "# Train the model\n",
    "train_input_fn = tf.compat.v1.estimator.inputs.numpy_input_fn(\n",
    "    x={\"x\": train_data},\n",
    "    y=train_labels,\n",
    "    batch_size=100,\n",
    "    num_epochs=None,\n",
    "    shuffle=True)\n",
    "\n",
    "# train one step and display the probabilties\n",
    "mnist_classifier.train(\n",
    "    input_fn=train_input_fn,\n",
    "    steps=1,\n",
    "    hooks=[logging_hook])"
   ]
  },
  {
   "cell_type": "markdown",
   "metadata": {},
   "source": [
    "Now—without logging each step—set `steps=1000` to train the model longer, but in a reasonable time to run this example. Training CNNs is computationally intensive. To increase the accuracy of your model, increase the number of `steps` passed to `train()`, like 20,000 steps. "
   ]
  },
  {
   "cell_type": "code",
   "execution_count": 19,
   "metadata": {},
   "outputs": [
    {
     "name": "stdout",
     "output_type": "stream",
     "text": [
      "INFO:tensorflow:Calling model_fn.\n",
      "INFO:tensorflow:Done calling model_fn.\n",
      "INFO:tensorflow:Create CheckpointSaverHook.\n",
      "INFO:tensorflow:Graph was finalized.\n",
      "INFO:tensorflow:Restoring parameters from /tmp/mnist_convnet_model\\model.ckpt-2003\n",
      "INFO:tensorflow:Running local_init_op.\n",
      "INFO:tensorflow:Done running local_init_op.\n",
      "INFO:tensorflow:Calling checkpoint listeners before saving checkpoint 2003...\n",
      "INFO:tensorflow:Saving checkpoints for 2003 into /tmp/mnist_convnet_model\\model.ckpt.\n",
      "INFO:tensorflow:Calling checkpoint listeners after saving checkpoint 2003...\n",
      "INFO:tensorflow:loss = 0.90388036, step = 2003\n",
      "INFO:tensorflow:global_step/sec: 9.96366\n",
      "INFO:tensorflow:loss = 0.66149896, step = 2103 (10.036 sec)\n",
      "INFO:tensorflow:global_step/sec: 9.70556\n",
      "INFO:tensorflow:loss = 0.80608255, step = 2203 (10.304 sec)\n",
      "INFO:tensorflow:global_step/sec: 9.75497\n",
      "INFO:tensorflow:loss = 0.7728067, step = 2303 (10.250 sec)\n",
      "INFO:tensorflow:global_step/sec: 9.67109\n",
      "INFO:tensorflow:loss = 0.63468415, step = 2403 (10.341 sec)\n",
      "INFO:tensorflow:global_step/sec: 10.0477\n",
      "INFO:tensorflow:loss = 0.575853, step = 2503 (9.954 sec)\n",
      "INFO:tensorflow:global_step/sec: 9.80977\n",
      "INFO:tensorflow:loss = 0.62568504, step = 2603 (10.192 sec)\n",
      "INFO:tensorflow:global_step/sec: 9.91621\n",
      "INFO:tensorflow:loss = 0.5725195, step = 2703 (10.085 sec)\n",
      "INFO:tensorflow:global_step/sec: 9.1856\n",
      "INFO:tensorflow:loss = 0.49441025, step = 2803 (10.886 sec)\n",
      "INFO:tensorflow:global_step/sec: 9.69129\n",
      "INFO:tensorflow:loss = 0.63547343, step = 2903 (10.319 sec)\n",
      "INFO:tensorflow:Calling checkpoint listeners before saving checkpoint 3003...\n",
      "INFO:tensorflow:Saving checkpoints for 3003 into /tmp/mnist_convnet_model\\model.ckpt.\n",
      "INFO:tensorflow:Calling checkpoint listeners after saving checkpoint 3003...\n",
      "INFO:tensorflow:Loss for final step: 0.5015505.\n"
     ]
    },
    {
     "data": {
      "text/plain": [
       "<tensorflow_estimator.python.estimator.estimator.EstimatorV2 at 0x1bc7c3b3910>"
      ]
     },
     "execution_count": 19,
     "metadata": {},
     "output_type": "execute_result"
    }
   ],
   "source": [
    "mnist_classifier.train(input_fn=train_input_fn, steps=1000)"
   ]
  },
  {
   "cell_type": "markdown",
   "metadata": {},
   "source": [
    "### Evaluate the Model\n",
    "\n",
    "Once training is complete, we want to evaluate our model to determine its\n",
    "accuracy on the MNIST test set. We call the `evaluate` method, which evaluates\n",
    "the metrics we specified in `eval_metric_ops` argument in the `model_fn`.\n",
    "Add the following to `main()`:"
   ]
  },
  {
   "cell_type": "code",
   "execution_count": 21,
   "metadata": {
    "scrolled": true
   },
   "outputs": [
    {
     "name": "stdout",
     "output_type": "stream",
     "text": [
      "INFO:tensorflow:Calling model_fn.\n",
      "INFO:tensorflow:Done calling model_fn.\n",
      "INFO:tensorflow:Starting evaluation at 2021-04-27T14:01:02Z\n",
      "INFO:tensorflow:Graph was finalized.\n",
      "INFO:tensorflow:Restoring parameters from /tmp/mnist_convnet_model\\model.ckpt-3003\n",
      "INFO:tensorflow:Running local_init_op.\n",
      "INFO:tensorflow:Done running local_init_op.\n",
      "INFO:tensorflow:Inference Time : 2.08158s\n",
      "INFO:tensorflow:Finished evaluation at 2021-04-27-14:01:04\n",
      "INFO:tensorflow:Saving dict for global step 3003: accuracy = 0.8961, global_step = 3003, loss = 0.4071013\n",
      "INFO:tensorflow:Saving 'checkpoint_path' summary for global step 3003: /tmp/mnist_convnet_model\\model.ckpt-3003\n",
      "{'accuracy': 0.8961, 'loss': 0.4071013, 'global_step': 3003}\n"
     ]
    }
   ],
   "source": [
    "eval_input_fn = tf.compat.v1.estimator.inputs.numpy_input_fn(\n",
    "    x={\"x\": eval_data},\n",
    "    y=eval_labels,\n",
    "    num_epochs=1,\n",
    "    shuffle=False)\n",
    "\n",
    "eval_results = mnist_classifier.evaluate(input_fn=eval_input_fn)\n",
    "print(eval_results)"
   ]
  },
  {
   "cell_type": "markdown",
   "metadata": {},
   "source": [
    "In the end, the CNN MNIST Classifier has around 90% of accuracy. This is less than our previous section (ensembles of CNNs), but still good enough. Then I wonder, is that possible that I could switch both dataset to see how the result performs, but turns out the shape of the images are different. I am not how to make it fit to the other method."
   ]
  },
  {
   "cell_type": "markdown",
   "metadata": {},
   "source": [
    "# Reference\n",
    "https://www.kaggle.com/c/bengaliai-cv19/discussion/122509 <br>\n",
    "https://www.kaggle.com/arunkumarramanan/awesome-deep-learning-with-cnn-mnist-classifier <br>\n",
    "https://www.tensorflow.org/api_docs/python/tf/compat/v1/losses/sparse_softmax_cross_entropy <br>\n",
    "https://keras.io/api/optimizers/\n"
   ]
  },
  {
   "cell_type": "code",
   "execution_count": null,
   "metadata": {},
   "outputs": [],
   "source": []
  }
 ],
 "metadata": {
  "kernelspec": {
   "display_name": "Python 3 (ipykernel)",
   "language": "python",
   "name": "python3"
  },
  "language_info": {
   "codemirror_mode": {
    "name": "ipython",
    "version": 3
   },
   "file_extension": ".py",
   "mimetype": "text/x-python",
   "name": "python",
   "nbconvert_exporter": "python",
   "pygments_lexer": "ipython3",
   "version": "3.10.13"
  }
 },
 "nbformat": 4,
 "nbformat_minor": 4
}
