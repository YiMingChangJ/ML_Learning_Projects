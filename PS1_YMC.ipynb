{
 "cells": [
  {
   "cell_type": "markdown",
   "metadata": {},
   "source": [
    "# Topics in numerical programming Problem set 1 \n",
    "B00751897 <br>\n",
    "Yi Ming Chang<br>\n",
    "Jan 25th, 2021"
   ]
  },
  {
   "cell_type": "markdown",
   "metadata": {},
   "source": [
    "# Problem 1: 2d Ising model"
   ]
  },
  {
   "cell_type": "markdown",
   "metadata": {},
   "source": [
    "# Part 1 a)"
   ]
  },
  {
   "cell_type": "code",
   "execution_count": 3,
   "metadata": {},
   "outputs": [],
   "source": [
    "\"\"\"\n",
    "Monte Carlo simulation of the 2D Ising model\n",
    "\"\"\"\n",
    "from scipy import *\n",
    "from pylab import *\n",
    "\n",
    "# e.g. N=10, Nsweep=1000\n",
    "# N=100 is too much\n",
    "N = 20        # linear dimension of the lattice, lattice-size= N x N\n",
    "Nsweep=1000\n",
    "Nitt=N*N*Nsweep # measure in MCS monte carlo sweeps of lattice\n",
    "\n",
    "warm = 10000     # Number of warmup steps\n",
    "measure=100     # How often to take a measurement\n",
    "\n",
    "def RandomL(N):\n",
    "    \"Radom lattice, corresponding to infinite temperature\"\n",
    "    latt = zeros((N,N), dtype=int)\n",
    "    for i in range(N):\n",
    "        for j in range(N):\n",
    "            latt[i,j] = sign(2*rand()-1)\n",
    "    return latt\n",
    "\n",
    "def SamplePython(Nitt, latt, PW):\n",
    "    \"Monte Carlo sampling for the Ising model in Python\"\n",
    "    Mn=sum(latt)         # Starting magnetization (total Magnetization of a N*N Lattice matrix)\n",
    "    \n",
    "    Naver=0       # Measurements\n",
    "    Eaver=0.0\n",
    "    Maver=0.0\n",
    "    \n",
    "    N2 = N*N\n",
    "    for itt in range(Nitt):\n",
    "        t = int(rand()*N2) # random number from 0 to 400\n",
    "        (i,j) = (t % N, int(t/N))  # pick a random spin every time to flip\n",
    "        S = latt[i,j]\n",
    "        WF = latt[(i+1)%N, j] + latt[i,(j+1)%N] + latt[(i-1)%N,j] + latt[i,(j-1)%N]   # PBC periodic boundary\n",
    "        P = PW[4+S*WF]\n",
    "        if P>rand(): # flip the spin\n",
    "            latt[i,j] = -S\n",
    "            Mn -= 2*S\n",
    "            \n",
    "        if itt>warm and itt%measure==0:\n",
    "            Naver += 1\n",
    "            Maver += abs(Mn)\n",
    "\n",
    "    if Naver>0:\n",
    "        Naver *= N*N    # per spin\n",
    "        return Maver/Naver\n",
    "    else:\n",
    "        return 0.0"
   ]
  },
  {
   "cell_type": "code",
   "execution_count": 78,
   "metadata": {},
   "outputs": [
    {
     "name": "stdout",
     "output_type": "stream",
     "text": [
      "4.0 0.0874852526288792\n",
      "3.794736842105263 0.08542190305206464\n",
      "3.5894736842105264 0.09310977173634265\n",
      "3.3842105263157896 0.10229930751474738\n",
      "3.1789473684210527 0.11991921005385997\n",
      "2.973684210526316 0.14326365734803795\n",
      "2.768421052631579 0.19211977430110286\n",
      "2.5631578947368423 0.2776942805847653\n",
      "2.3578947368421055 0.5958258527827648\n",
      "2.1526315789473687 0.8288368812516029\n",
      "1.9473684210526314 0.9326147730187228\n",
      "1.7421052631578946 0.9631674788407284\n",
      "1.5368421052631578 0.9839766606822262\n",
      "1.331578947368421 0.9931097717363426\n",
      "1.1263157894736842 0.9981905616824827\n",
      "0.9210526315789473 0.9996742754552449\n",
      "0.7157894736842105 0.9999769171582457\n",
      "0.5105263157894737 1.0\n",
      "0.3052631578947369 1.0\n",
      "0.1 1.0\n"
     ]
    },
    {
     "data": {
      "image/png": "[encoded data removed]",
      "text/plain": [
       "<Figure size 432x288 with 1 Axes>"
      ]
     },
     "metadata": {
      "needs_background": "light"
     },
     "output_type": "display_data"
    }
   ],
   "source": [
    "    latt = RandomL(N)\n",
    "    PW = zeros(9, dtype=float)\n",
    "\n",
    "    wT = linspace(4,0.1,20)  # at least 10 temperatures (avoid 0.0, or recode PW to be 0 or 1 for T=0)\n",
    "    wMag=[]\n",
    "    \n",
    "    for T in wT:       \n",
    "        # Precomputed exponents for every T\n",
    "        PW[4+4] = exp(-4.*2/T)\n",
    "        PW[4+2] = exp(-2.*2/T)\n",
    "        PW[4+0] = 1.0        # exp(0.*2/T)\n",
    "        PW[4-2] = exp( 2.*2/T)\n",
    "        PW[4-4] = exp( 4.*2/T)\n",
    "    \n",
    "        maver = SamplePython(Nitt, latt, PW)\n",
    "        wMag.append(maver)\n",
    "        print(T, maver)\n",
    "        \n",
    "    plot(wT, wMag, label='M(T)')\n",
    "    axvline(x=2.27,linestyle = '--')\n",
    "    xlabel('T')\n",
    "    legend(loc='best')\n",
    "    show()\n"
   ]
  },
  {
   "cell_type": "markdown",
   "metadata": {},
   "source": [
    "Where the dash line is critical temperature: $T_c$. I think the x-axis should be labeled as $k_BT$ with unit J, which is an energy unit. I thought in the assignment J is interaction strength.<br>\n",
    "When $T$ > $T_c$, it is looks like an ordered phase. Spins desire to be aligned, so the configurations in which adjacent spins are of the same sign have higher probability. From the plot, we have spins align up (spin up), so that the average absolute magnetization near or equal to 1. \n",
    "\n",
    "When $T$< $T_c$, it is looks like a disordered phase. The adjacent spins tend to have opposite signs, so the average absolute magnetization near to zero. "
   ]
  },
  {
   "cell_type": "markdown",
   "metadata": {},
   "source": [
    "# Part 1 b)"
   ]
  },
  {
   "cell_type": "code",
   "execution_count": 10,
   "metadata": {},
   "outputs": [],
   "source": [
    "\"\"\"\n",
    "Monte Carlo simulation of the 2D Ising model\n",
    "\"\"\"\n",
    "from scipy import *\n",
    "from pylab import *\n",
    "\n",
    "# e.g. N=10, Nsweep=1000\n",
    "# N=100 is too much\n",
    "N = 4        # linear dimension of the lattice, lattice-size= N x N\n",
    "Nsweep=100000 # increaed the number of Nsweep to make data look more smooth\n",
    "Nitt=N*N*Nsweep # measure in MCS monte carlo sweeps of lattice\n",
    "\n",
    "def RandomL(N):\n",
    "    \"Radom lattice, corresponding to infinite temperature\"\n",
    "    latt = zeros((N,N), dtype=int)\n",
    "    for i in range(N):\n",
    "        for j in range(N):\n",
    "            latt[i,j] = sign(2*rand()-1)\n",
    "    return latt\n",
    "\n",
    "def SamplePython(Nitt, latt, PW):\n",
    "    \"Monte Carlo sampling for the Ising model in Python\"\n",
    "    Mn=sum(latt)         # Starting magnetization (total Magnetization of a N*N Lattice matrix)\n",
    "\n",
    "    mag = []\n",
    "    \n",
    "    N2 = N*N\n",
    "    for itt in range(Nitt):\n",
    "        t = int(rand()*N2) # random number from 0 to 400\n",
    "        (i,j) = (t % N, int(t/N))  # pick a random spin every time to flip\n",
    "        S = latt[i,j]\n",
    "        WF = latt[(i+1)%N, j] + latt[i,(j+1)%N] + latt[(i-1)%N,j] + latt[i,(j-1)%N]   # PBC periodic boundary\n",
    "        P = PW[4+S*WF]\n",
    "        if P>rand(): # flip the spin\n",
    "            latt[i,j] = -S\n",
    "            Mn -= 2*S\n",
    "        mag.append(Mn)\n",
    "    return mag"
   ]
  },
  {
   "cell_type": "code",
   "execution_count": 11,
   "metadata": {},
   "outputs": [
    {
     "data": {
      "text/plain": [
       "Text(0, 0.5, 'P(M)')"
      ]
     },
     "execution_count": 11,
     "metadata": {},
     "output_type": "execute_result"
    },
    {
     "data": {
      "image/png": "[encoded data removed]",
      "text/plain": [
       "<Figure size 432x288 with 1 Axes>"
      ]
     },
     "metadata": {
      "needs_background": "light"
     },
     "output_type": "display_data"
    },
    {
     "data": {
      "image/png": "[encoded data removed]",
      "text/plain": [
       "<Figure size 432x288 with 1 Axes>"
      ]
     },
     "metadata": {
      "needs_background": "light"
     },
     "output_type": "display_data"
    }
   ],
   "source": [
    "latt = RandomL(N)\n",
    "PW = zeros(9, dtype=float)\n",
    "\n",
    "\n",
    "T = 2 # T < T_c\n",
    "      \n",
    "# Precomputed exponents for every T\n",
    "PW[4+4] = exp(-4.*2/T)\n",
    "PW[4+2] = exp(-2.*2/T)\n",
    "PW[4+0] = 1.0        # exp(0.*2/T)\n",
    "PW[4-2] = exp( 2.*2/T)\n",
    "PW[4-4] = exp( 4.*2/T)\n",
    "    \n",
    "M1 = SamplePython(Nitt, latt, PW)\n",
    "Mave1 = [x / int(N*N) for x in M1] # divide N*N through the entire list to obtain Magnetization per spin\n",
    "figure(1)\n",
    "hist(Mave1,bins=15)\n",
    "title('T < T_c (T=2)')\n",
    "xlabel('Magnetization per spin')\n",
    "ylabel('P(M)')\n",
    "\n",
    "\n",
    "PW = zeros(9, dtype=float)\n",
    "T = 8 # T > T_c      \n",
    "# Precomputed exponents for every T\n",
    "PW[4+4] = exp(-4.*2/T)\n",
    "PW[4+2] = exp(-2.*2/T)\n",
    "PW[4+0] = 1.0        # exp(0.*2/T)\n",
    "PW[4-2] = exp( 2.*2/T)\n",
    "PW[4-4] = exp( 4.*2/T)\n",
    "    \n",
    "M2 = SamplePython(Nitt, latt, PW)\n",
    "Mave2 = [x / int(N*N) for x in M2] # divide N*N through the entire list to obtain Magnetization per spin\n",
    "figure(2)\n",
    "hist(Mave2, bins=15)\n",
    "title('T > T_c (T=8)')\n",
    "xlabel('Magnetization per spin')\n",
    "ylabel('P(M)')"
   ]
  },
  {
   "cell_type": "markdown",
   "metadata": {},
   "source": [
    "Yes, $T$ < $T_c$ is bimodal and $T$ > $T_c$ is unimodal. I pick T = 2 and T = 8. I am not sure should I keep the warm up if statement in order to eliminate the noise data, but I think both plots look exactly what the question wants."
   ]
  },
  {
   "cell_type": "markdown",
   "metadata": {},
   "source": [
    "# Part 1 c)"
   ]
  },
  {
   "cell_type": "code",
   "execution_count": 12,
   "metadata": {
    "scrolled": true
   },
   "outputs": [
    {
     "name": "stdout",
     "output_type": "stream",
     "text": [
      "The average first passage time: 6315.201581027668\n"
     ]
    },
    {
     "data": {
      "image/png": "[encoded data removed]",
      "text/plain": [
       "<Figure size 432x288 with 1 Axes>"
      ]
     },
     "metadata": {
      "needs_background": "light"
     },
     "output_type": "display_data"
    }
   ],
   "source": [
    "Count1 = 0 # A counter uses to measure the times from 1 to -1\n",
    "Count2 = 0 # A counter uses to measure the times from -1 to 1\n",
    "A = 0 # A Counter uses to measure how many times that 1 has appear, it will reset when passes -1\n",
    "B = 0 # A Counter uses to measure how many times that -1 has appear, it will reset when passes 1\n",
    "P = [] # Probability P(M)\n",
    "\n",
    "for i in range (len(Mave1)):\n",
    "    \n",
    "    # the counter start from the first 1 to the first -1\n",
    "    if Mave1[i] == 1:\n",
    "        Count1 += 1\n",
    "        A += 1\n",
    "    elif Mave1[i] < 1 and Mave1[i] > -1: # since this section will repeat so I create A and B to see when is first 1 and -1\n",
    "        Count1 += 1\n",
    "    elif Mave1[i] == -1 and B == 0:\n",
    "        P.append(Count1)\n",
    "        Count1 = 0\n",
    "        A = 0\n",
    "    \n",
    "    # the counter start from the first -1 to the first 1\n",
    "    if Mave1[i] == -1:\n",
    "        Count2 += 1\n",
    "        B += 1\n",
    "    elif Mave1[i] > -1 and Mave1[i] < 1:\n",
    "        Count2 += 1\n",
    "    elif Mave1[i] == 1 and A == 1:\n",
    "        P.append(Count2)\n",
    "        Count2 = 0\n",
    "        B = 0\n",
    "    \n",
    "    # if it is not from 1 to -1 reset the clock\n",
    "    if A == 0:\n",
    "        Count1 = 0\n",
    "    \n",
    "    # if it is not from -1 to 1 reset the clock\n",
    "    if B == 0:\n",
    "        Count2 = 0\n",
    "\n",
    "P.pop(0)      \n",
    "hist(P,bins = 15)\n",
    "xlabel\n",
    "ylabel(r'$P(\\tau_{first})$')\n",
    "title('Distribution')\n",
    "print('The average first passage time:',sum(P)/len(P))\n"
   ]
  },
  {
   "cell_type": "markdown",
   "metadata": {},
   "source": [
    "The distribution is in exponential decay, I take out the code of warm up and measure number for every 100 values. So the data may have more noise or repeated number than it originally would have. When I keep the warm up step, the average first passage time that I obtain is around 60s. Without that if statement I obtain 6315.20158s as my average first passage time.\n",
    "\n",
    "ADR: good to show exponential directly (add curve or log-linear scale). Yes, if too fast you need to not only measure every 100."
   ]
  },
  {
   "cell_type": "markdown",
   "metadata": {},
   "source": [
    "# Problem 2: SSA"
   ]
  },
  {
   "cell_type": "markdown",
   "metadata": {},
   "source": [
    "# Part 2 a)"
   ]
  },
  {
   "cell_type": "markdown",
   "metadata": {},
   "source": [
    "# Theoretical method/ideal of the function\n",
    "\n",
    "Assume there is one particle exist in a system. The system is consists of state 1 $s_+$, state 2 $s_0$, and state 3 $s_-$. A transition towards state 1 and state 3 is $\\Gamma_1$. A transition towards state 2 is $\\Gamma_0$. And state 1 and state 3 can only transfer to state 2. The total transition rate at middle region, state 2, is $\\Gamma_{tot1}$ = 2$\\Gamma_1$. The total transition rate at state 1 and state 2 is $\\Gamma_{tot2}$ = $\\Gamma_1$.\n",
    "\n",
    "dt1 = -$\\frac{1}{\\Gamma_{tot1}}ln(1-random)$\n",
    "dt2 = -$\\frac{1}{\\Gamma_{tot2}}ln(1-random)$\n",
    "\n",
    "Probability going towards state 2 from state 1 and 3 is $\\frac{\\Gamma_1}{\\Gamma_{tot2}}$ = 1, so the transition rate is 100% <br>\n",
    "Probability going towards state 1 and state 3 from state 2 is $\\frac{1}{2}$"
   ]
  },
  {
   "cell_type": "code",
   "execution_count": 18,
   "metadata": {},
   "outputs": [],
   "source": [
    "# A function that takes Gamma_1 as input\n",
    "def P(gamma_1):\n",
    "    T = 0 # used to record the cummulative time\n",
    "    t = 0 # used to update the transition period and will be reset for every transition from state 1 to state 3, vice versa\n",
    "    tlist = [] # retore the time from state 1 to state 3\n",
    "    A = 0 # used to see if it is the first time been state 1\n",
    "    B = 0 # used to see if it is the first time been state 2\n",
    "    s1 = 1 # state 1, s_+\n",
    "    s2 = 0 # state 2, s_0\n",
    "    s3 = 0 # state 3, s_-\n",
    "    gamma_0 = 1 # I set gamma_0 = 1 so y = gamma_1\n",
    "    gamma_total1 = (gamma_1*2) # total transition rate at middle region (state 2)\n",
    "    gamma_total2 = (gamma_0) # total transition rate at state 1 and state 3\n",
    "    \n",
    "    # True if the cumulative not over 10000s\n",
    "    while T < 10000:\n",
    "        \n",
    "        # SSA (Gillespie algorithm)\n",
    "        dt1 = -1/gamma_total1*log(1-random()) \n",
    "        dt2 = -1/gamma_total2*log(1-random())\n",
    "        \n",
    "        # pick a random number\n",
    "        x = random()\n",
    "        \n",
    "        if s1 != 0: # if particle at state 1\n",
    "            s1 -= 1\n",
    "            s2 += 1\n",
    "            A += 0 # update if it is not the frist time being in state 1 \n",
    "            t += dt2\n",
    "\n",
    "        elif s2 != 0: # if particle at state 2\n",
    "            if x > gamma_1/gamma_total1: # go to state 3\n",
    "                s2 -= 1\n",
    "                s3 += 1\n",
    "                t += dt1\n",
    "                if B == 0: # check if it is first time in state 3\n",
    "                    tlist.append(t)\n",
    "                    T += t\n",
    "                    t = 0\n",
    "                    A = 0\n",
    "                    \n",
    "            else: # go to state 1\n",
    "                s2 -= 1\n",
    "                s1 += 1\n",
    "                t += dt1\n",
    "                if A == 0: # check if it is first time in state 1\n",
    "                    tlist.append(t)\n",
    "                    T += t\n",
    "                    t = 0\n",
    "                    B = 0\n",
    "\n",
    "        elif s3 != 0: # if particle at state 3\n",
    "            s3 -= 1\n",
    "            s2 += 1\n",
    "            B += 1 # update if it is not the frist time being in state 2\n",
    "            t += dt2\n",
    "\n",
    "    return tlist\n"
   ]
  },
  {
   "cell_type": "code",
   "execution_count": 24,
   "metadata": {},
   "outputs": [
    {
     "data": {
      "text/plain": [
       "Text(0.5, 1.0, 'y = 0.5')"
      ]
     },
     "execution_count": 24,
     "metadata": {},
     "output_type": "execute_result"
    },
    {
     "data": {
      "image/png": "[encoded data removed]",
      "text/plain": [
       "<Figure size 432x288 with 1 Axes>"
      ]
     },
     "metadata": {
      "needs_background": "light"
     },
     "output_type": "display_data"
    },
    {
     "data": {
      "image/png": "[encoded data removed]",
      "text/plain": [
       "<Figure size 432x288 with 1 Axes>"
      ]
     },
     "metadata": {
      "needs_background": "light"
     },
     "output_type": "display_data"
    },
    {
     "data": {
      "image/png": "[encoded data removed]",
      "text/plain": [
       "<Figure size 432x288 with 1 Axes>"
      ]
     },
     "metadata": {
      "needs_background": "light"
     },
     "output_type": "display_data"
    },
    {
     "data": {
      "image/png": "[encoded data removed]",
      "text/plain": [
       "<Figure size 432x288 with 1 Axes>"
      ]
     },
     "metadata": {
      "needs_background": "light"
     },
     "output_type": "display_data"
    },
    {
     "data": {
      "image/png": "[encoded data removed]",
      "text/plain": [
       "<Figure size 432x288 with 1 Axes>"
      ]
     },
     "metadata": {
      "needs_background": "light"
     },
     "output_type": "display_data"
    }
   ],
   "source": [
    "# plot the distribution with various value of y\n",
    "\n",
    "tlist1 = P(0.5)\n",
    "tlist2 = P(0.1)\n",
    "tlist3 = P(0.2)\n",
    "tlist4 = P(0.3)\n",
    "tlist5 = P(0.4)\n",
    "\n",
    "\n",
    "figure(1)\n",
    "hist(tlist2,bins=15)\n",
    "xlabel('Time [s]')\n",
    "ylabel(r'$P(\\tau)$')\n",
    "title('y = 0.1')\n",
    "\n",
    "figure(2)\n",
    "hist(tlist3,bins=15)\n",
    "xlabel('Time [s]')\n",
    "ylabel(r'$P(\\tau)$')\n",
    "title('y = 0.2')\n",
    "\n",
    "figure(3)\n",
    "hist(tlist4,bins=15)\n",
    "xlabel('Time [s]')\n",
    "ylabel(r'$P(\\tau)$')\n",
    "title('y = 0.3')\n",
    "\n",
    "figure(4)\n",
    "hist(tlist5,bins=15)\n",
    "xlabel('Time [s]')\n",
    "ylabel(r'$P(\\tau)$')\n",
    "title('y = 0.4')  \n",
    "\n",
    "figure(5)\n",
    "hist(tlist1,bins=15)\n",
    "xlabel('Time [s]')\n",
    "ylabel(r'$P(\\tau)$')\n",
    "title('y = 0.5')"
   ]
  },
  {
   "cell_type": "markdown",
   "metadata": {},
   "source": [
    "I find the first few columns (0 to 5) are getting higher at y increases, the cases start concentrated to the first few columns. Since, y increased will make the transition time between middel region to state1 or state3 smaller. Overall, the total and average $\\tau$ from $s_+$ to $s_-$ or $s_-$ to $s_+$ will become shorter as y increases. This is also why our x-axis gets shorter, and y-axis gets higher."
   ]
  },
  {
   "cell_type": "markdown",
   "metadata": {},
   "source": [
    "# Part 2 b)"
   ]
  },
  {
   "cell_type": "code",
   "execution_count": 20,
   "metadata": {},
   "outputs": [
    {
     "data": {
      "text/plain": [
       "Text(0.5, 1.0, '$\\\\langle\\\\tau\\\\rangle$ vs. y')"
      ]
     },
     "execution_count": 20,
     "metadata": {},
     "output_type": "execute_result"
    },
    {
     "data": {
      "image/png": "[encoded data removed]",
      "text/plain": [
       "<Figure size 432x288 with 1 Axes>"
      ]
     },
     "metadata": {
      "needs_background": "light"
     },
     "output_type": "display_data"
    }
   ],
   "source": [
    "average_tau = [] # use to store average <tau>\n",
    "for i in linspace(0.1,0.9,500): # 500 different values of y as input\n",
    "    tlist = P(i)\n",
    "    average_tau.append(sum(tlist)/len(tlist)) # store average tlist\n",
    "\n",
    "# plot <tau> vs. y\n",
    "y = linspace(0.1,0.9,500)\n",
    "plot(y,average_tau)\n",
    "xlabel(r'$y = \\frac{\\Gamma_1}{\\Gamma_0}$')\n",
    "ylabel(r'$\\langle\\tau\\rangle$')\n",
    "title(r'$\\langle\\tau\\rangle$ vs. y')"
   ]
  },
  {
   "cell_type": "markdown",
   "metadata": {},
   "source": [
    "It seems like the average time $\\tau$ decreases as y increases. It makes sense because the large $\\Gamma_1$ we have, it would be easier to tranfer from state 1 to state 3 directly, vice verse. And this will take less time.\n",
    "\n",
    "\n",
    "ADR: a theory curve would be helpful. 9.5/10"
   ]
  }
 ],
 "metadata": {
  "kernelspec": {
   "display_name": "Python 3",
   "language": "python",
   "name": "python3"
  },
  "language_info": {
   "codemirror_mode": {
    "name": "ipython",
    "version": 3
   },
   "file_extension": ".py",
   "mimetype": "text/x-python",
   "name": "python",
   "nbconvert_exporter": "python",
   "pygments_lexer": "ipython3",
   "version": "3.8.5"
  }
 },
 "nbformat": 4,
 "nbformat_minor": 4
}
