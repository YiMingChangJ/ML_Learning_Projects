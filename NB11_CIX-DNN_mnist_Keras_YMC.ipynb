{
 "cells": [
  {
   "cell_type": "markdown",
   "metadata": {},
   "source": [
    "# Notebook 11: Introduction to Deep Neural Networks with Keras"
   ]
  },
  {
   "cell_type": "markdown",
   "metadata": {},
   "source": [
    "## Learning Goals\n",
    "The goal of this notebook is to introduce deep neural networks (DNNs) using the high-level Keras package. The reader will become familiar with how to choose an architecture, cost function, and optimizer in Keras. We will also learn how to train neural networks.\n",
    "\n",
    "\n",
    "# MNIST with Keras\n",
    "\n",
    "We will once again work with the MNIST dataset of hand written digits introduced in *Notebook 7: Logistic Regression (MNIST)*. The goal is to find a statistical model which recognizes and distinguishes between the ten handwritten digits (0-9).\n",
    "\n",
    "The MNIST dataset comprises $70000$ handwritten digits, each of which comes in a square image, divided into a $28\\times 28$ pixel grid. Every pixel can take on $256$ nuances of the gray color, interpolating between white and black, and hence each data point assumes any value in the set $\\{0,1,\\dots,255\\}$. Since there are $10$ categories in the problem, corresponding to the ten digits, this problem represents a generic classification task. \n",
    "\n",
    "In this Notebook, we show how to use the Keras python package to tackle the MNIST problem with the help of deep neural networks.\n",
    "\n",
    "The following code is a slight modification of a Keras tutorial, see [https://github.com/fchollet/keras/blob/master/examples/mnist_cnn.py](https://github.com/fchollet/keras/blob/master/examples/mnist_cnn.py). We invite the reader to read Sec. IX of the review to acquire a broad understanding of what the separate parts of the code do."
   ]
  },
  {
   "cell_type": "code",
   "execution_count": 1,
   "metadata": {},
   "outputs": [],
   "source": [
    "from __future__ import print_function\n",
    "import keras,sklearn\n",
    "# suppress tensorflow compilation warnings\n",
    "import os\n",
    "os.environ['KMP_DUPLICATE_LIB_OK']='True'\n",
    "import tensorflow as tf\n",
    "os.environ['TF_CPP_MIN_LOG_LEVEL'] = '2'\n",
    "import numpy as np\n",
    "seed=0\n",
    "np.random.seed(seed) # fix random seed\n",
    "tf.compat.v1.set_random_seed(seed)\n",
    "import matplotlib.pyplot as plt"
   ]
  },
  {
   "cell_type": "markdown",
   "metadata": {},
   "source": [
    "## Structure of the Procedure\n",
    "\n",
    "Constructing a Deep Neural Network to solve ML problems is a multiple-stage process. Quite generally, one can identify the key steps as follows:\n",
    "\n",
    "* ***step 1:*** Load and process the data\n",
    "* ***step 2:*** Define the model and its architecture\n",
    "* ***step 3:*** Choose the optimizer and the cost function\n",
    "* ***step 4:*** Train the model \n",
    "* ***step 5:*** Evaluate the model performance on the *unseen* test data\n",
    "* ***step 6:*** Modify the hyperparameters to optimize performance for the specific data set\n",
    "\n",
    "We would like to emphasize that, while it is always possible to view steps 1-5 as independent of the particular task we are trying to solve, it is only when they are put together in ***step 6*** that the real gain of using Deep Learning is revealed, compared to less sophisticated methods such as the regression models or bagging, described in Secs. VII and VIII of the review. With this remark in mind, we shall focus predominantly on steps 1-5 below. We show how one can use grid search methods to find optimal hyperparameters in ***step 6***."
   ]
  },
  {
   "cell_type": "markdown",
   "metadata": {},
   "source": [
    "### Step 1: Load and Process the Data\n",
    "\n",
    "Keras can conveniently download the MNIST data from the web. All we need to do is import the `mnist` module and use the `load_data()` class, and it will create the training and test data sets or us.\n",
    "\n",
    "The MNIST set has pre-defined test and training sets, in order to facilitate the comparison of the performance of different models on the data.\n",
    "\n",
    "Once we have loaded the data, we need to format it in the correct shape. This differs from one package to the other and, as we see in the case of Keras, it can even be different depending on the backend used.\n",
    "\n",
    "While choosing the correct `datatype` can help improve the computational speed, we emphasize the rescaling step, which is necessary to avoid large variations in the minimal and maximal possible values of each feature. In other words, we want to make sure a feature is not being over-represented just because it is \"large\".\n",
    "\n",
    "Last, we cast the label vectors $y$ to binary class matrices (a.k.a. one-hot format), as explained in Sec. VII on SoftMax regression."
   ]
  },
  {
   "cell_type": "code",
   "execution_count": 2,
   "metadata": {
    "scrolled": true
   },
   "outputs": [
    {
     "name": "stdout",
     "output_type": "stream",
     "text": [
      "Downloading data from https://storage.googleapis.com/tensorflow/tf-keras-datasets/mnist.npz\n",
      "11490434/11490434 [==============================] - 0s 0us/step\n",
      "an example of a data point with label 4\n"
     ]
    },
    {
     "data": {
      "image/png": "[encoded data removed]",
      "text/plain": [
       "<Figure size 480x480 with 1 Axes>"
      ]
     },
     "metadata": {},
     "output_type": "display_data"
    },
    {
     "name": "stdout",
     "output_type": "stream",
     "text": [
      "X_train shape: (60000, 784)\n",
      "Y_train shape: (60000, 10)\n",
      "\n",
      "60000 train samples\n",
      "10000 test samples\n"
     ]
    }
   ],
   "source": [
    "from keras.datasets import mnist\n",
    "\n",
    "# input image dimensions\n",
    "num_classes = 10 # 10 digits\n",
    "\n",
    "img_rows, img_cols = 28, 28 # number of pixels \n",
    "\n",
    "# the data, shuffled and split between train and test sets\n",
    "\n",
    "# reshape data, depending on Keras backend\n",
    "X_train = X_train.reshape(X_train.shape[0], img_rows*img_cols)\n",
    "X_test = X_test.reshape(X_test.shape[0], img_rows*img_cols)\n",
    "    \n",
    "# cast floats to single precesion\n",
    "X_train = X_train.astype('float32')\n",
    "X_test = X_test.astype('float32')\n",
    "\n",
    "# rescale data in interval [0,1]\n",
    "X_train /= 255\n",
    "X_test /= 255\n",
    "\n",
    "# look at an example of data point\n",
    "print('an example of a data point with label', Y_train[20])\n",
    "plt.matshow(X_train[20,:].reshape(28,28),cmap='binary')\n",
    "plt.show()\n",
    "\n",
    "# convert class vectors to binary class matrices\n",
    "Y_train = keras.utils.to_categorical(Y_train, num_classes)\n",
    "Y_test = keras.utils.to_categorical(Y_test, num_classes)\n",
    "\n",
    "print('X_train shape:', X_train.shape)\n",
    "print('Y_train shape:', Y_train.shape)\n",
    "print()\n",
    "print(X_train.shape[0], 'train samples')\n",
    "print(X_test.shape[0], 'test samples')"
   ]
  },
  {
   "cell_type": "code",
   "execution_count": 8,
   "metadata": {},
   "outputs": [
    {
     "data": {
      "text/plain": [
       "array([[0., 0., 0., ..., 0., 0., 0.],\n",
       "       [0., 0., 0., ..., 0., 0., 0.],\n",
       "       [0., 0., 0., ..., 0., 0., 0.],\n",
       "       ...,\n",
       "       [0., 0., 0., ..., 0., 0., 0.],\n",
       "       [0., 0., 0., ..., 0., 0., 0.],\n",
       "       [0., 0., 0., ..., 0., 0., 0.]], dtype=float32)"
      ]
     },
     "execution_count": 8,
     "metadata": {},
     "output_type": "execute_result"
    }
   ],
   "source": [
    "X_test"
   ]
  },
  {
   "cell_type": "markdown",
   "metadata": {},
   "source": [
    "### Step 2: Define the Neural Net and its Architecture\n",
    "\n",
    "We can now move on to construct our deep neural net. We shall use Keras's `Sequential()` class to instantiate a model, and will add different deep layers one by one.\n",
    "\n",
    "At this stage, we refrain from using convolutional layers. This is done further below.\n",
    "\n",
    "Let us create an instance of Keras' `Sequential()` class, called `model`. As the name suggests, this class allows us to build DNNs layer by layer. We use the `add()` method to attach layers to our model. For the purposes of our introductory example, it suffices to focus on `Dense` layers for simplicity. Every `Dense()` layer accepts as its first required argument an integer which specifies the number of neurons. The type of activation function for the layer is defined using the `activation` optional argument, the input of which is the name of the activation function in `string` format. Examples include `relu`, `tanh`, `elu`, `sigmoid`, `softmax`. \n",
    "\n",
    "In order for our DNN to work properly, we have to make sure that the numbers of input and output neurons for each layer match. Therefore, we specify the shape of the input in the first layer of the model explicitly using the optional argument `input_shape=(N_features,)`. The sequential construction of the model then allows Keras to infer the correct input/output dimensions of all hidden layers automatically. Hence, we only need to specify the size of the softmax output layer to match the number of categories."
   ]
  },
  {
   "cell_type": "code",
   "execution_count": 9,
   "metadata": {},
   "outputs": [
    {
     "name": "stdout",
     "output_type": "stream",
     "text": [
      "Model architecture created successfully!\n"
     ]
    }
   ],
   "source": [
    "from keras.models import Sequential\n",
    "from keras.layers import Dense, Dropout, Flatten\n",
    "from keras.layers import Conv2D, MaxPooling2D\n",
    "\n",
    "\n",
    "def create_DNN():\n",
    "    # instantiate model\n",
    "    model = Sequential()\n",
    "    # add a dense all-to-all relu layer\n",
    "    model.add(Dense(400,input_shape=(img_rows*img_cols,), activation='relu'))\n",
    "    # add a dense all-to-all relu layer\n",
    "    model.add(Dense(100, activation='relu'))\n",
    "    # apply dropout with rate 0.5\n",
    "    model.add(Dropout(0.5))\n",
    "    # soft-max layer\n",
    "    model.add(Dense(num_classes, activation='softmax'))\n",
    "    \n",
    "    return model\n",
    "\n",
    "print('Model architecture created successfully!')"
   ]
  },
  {
   "cell_type": "markdown",
   "metadata": {},
   "source": [
    "### Step 3: Choose the Optimizer and the Cost Function\n",
    "\n",
    "Next, we choose the loss function according to which to train the DNN. For classification problems, this is the cross entropy, and since the output data was cast in categorical form, we choose the `categorical_crossentropy` defined in Keras' `losses` module. Depending on the problem of interest one can pick any other suitable loss function. To optimize the weights of the net, we choose SGD. This algorithm is already available to use under Keras' `optimizers` module, but we could use `Adam()` or any other built-in one as well. The parameters for the optimizer, such as `lr` (learning rate) or `momentum` are passed using the corresponding optional arguments of the `SGD()` function. All available arguments can be found in Keras' online documentation at [https://keras.io/](https://keras.io/). While the loss function and the optimizer are essential for the training procedure, to test the performance of the model one may want to look at a particular `metric` of performance. For instance, in categorical tasks one typically looks at their `accuracy`, which is defined as the percentage of correctly classified data points. To complete the definition of our model, we use the `compile()` method, with optional arguments for the `optimizer`, `loss`, and the validation `metric` as follows:"
   ]
  },
  {
   "cell_type": "code",
   "execution_count": 10,
   "metadata": {},
   "outputs": [
    {
     "name": "stdout",
     "output_type": "stream",
     "text": [
      "Model compiled successfully and ready to be trained.\n"
     ]
    }
   ],
   "source": [
    "def compile_model(optimizer=keras.optimizers.Adam()):\n",
    "    # create the mode\n",
    "    model=create_DNN()\n",
    "    # compile the model\n",
    "    model.compile(loss=keras.losses.categorical_crossentropy,\n",
    "                  optimizer=optimizer,\n",
    "                  metrics=['accuracy'])\n",
    "    return model\n",
    "\n",
    "print('Model compiled successfully and ready to be trained.')"
   ]
  },
  {
   "cell_type": "markdown",
   "metadata": {},
   "source": [
    "### Step 4: Train the model\n",
    "\n",
    "We train our DNN in minibatches, the advantages of which were explained in Sec. IV. \n",
    "\n",
    "Shuffling the training data during training improves stability of the model. Thus, we train over a number of training epochs. \n",
    "\n",
    "Training the DNN is a one-liner using the `fit()` method of the `Sequential` class. The first two required arguments are the training input and output data. As optional arguments, we specify the mini-`batch_size`, the number of training `epochs`, and the test or `validation_data`. To monitor the training procedure for every epoch, we set `verbose=True`. "
   ]
  },
  {
   "cell_type": "code",
   "execution_count": 11,
   "metadata": {
    "scrolled": true
   },
   "outputs": [
    {
     "name": "stdout",
     "output_type": "stream",
     "text": [
      "Epoch 1/100\n",
      "938/938 [==============================] - 3s 4ms/step - loss: 0.3156 - accuracy: 0.9078 - val_loss: 0.1137 - val_accuracy: 0.9647\n",
      "Epoch 2/100\n",
      "938/938 [==============================] - 3s 4ms/step - loss: 0.1257 - accuracy: 0.9640 - val_loss: 0.0886 - val_accuracy: 0.9713\n",
      "Epoch 3/100\n",
      "938/938 [==============================] - 3s 3ms/step - loss: 0.0893 - accuracy: 0.9742 - val_loss: 0.0737 - val_accuracy: 0.9768\n",
      "Epoch 4/100\n",
      "938/938 [==============================] - 3s 3ms/step - loss: 0.0691 - accuracy: 0.9792 - val_loss: 0.0716 - val_accuracy: 0.9780\n",
      "Epoch 5/100\n",
      "938/938 [==============================] - 3s 3ms/step - loss: 0.0566 - accuracy: 0.9829 - val_loss: 0.0735 - val_accuracy: 0.9787\n",
      "Epoch 6/100\n",
      "938/938 [==============================] - 3s 3ms/step - loss: 0.0464 - accuracy: 0.9863 - val_loss: 0.0637 - val_accuracy: 0.9811\n",
      "Epoch 7/100\n",
      "938/938 [==============================] - 3s 3ms/step - loss: 0.0369 - accuracy: 0.9886 - val_loss: 0.0684 - val_accuracy: 0.9816\n",
      "Epoch 8/100\n",
      "938/938 [==============================] - 3s 3ms/step - loss: 0.0340 - accuracy: 0.9894 - val_loss: 0.0737 - val_accuracy: 0.9818\n",
      "Epoch 9/100\n",
      "938/938 [==============================] - 3s 3ms/step - loss: 0.0293 - accuracy: 0.9906 - val_loss: 0.0623 - val_accuracy: 0.9821\n",
      "Epoch 10/100\n",
      "938/938 [==============================] - 3s 3ms/step - loss: 0.0254 - accuracy: 0.9922 - val_loss: 0.0796 - val_accuracy: 0.9827\n",
      "Epoch 11/100\n",
      "938/938 [==============================] - 3s 3ms/step - loss: 0.0243 - accuracy: 0.9923 - val_loss: 0.0795 - val_accuracy: 0.9819\n",
      "Epoch 12/100\n",
      "938/938 [==============================] - 3s 3ms/step - loss: 0.0211 - accuracy: 0.9933 - val_loss: 0.0805 - val_accuracy: 0.9805\n",
      "Epoch 13/100\n",
      "938/938 [==============================] - 3s 3ms/step - loss: 0.0205 - accuracy: 0.9938 - val_loss: 0.0892 - val_accuracy: 0.9819\n",
      "Epoch 14/100\n",
      "938/938 [==============================] - 3s 3ms/step - loss: 0.0194 - accuracy: 0.9938 - val_loss: 0.0805 - val_accuracy: 0.9820\n",
      "Epoch 15/100\n",
      "938/938 [==============================] - 3s 3ms/step - loss: 0.0176 - accuracy: 0.9942 - val_loss: 0.0897 - val_accuracy: 0.9809\n",
      "Epoch 16/100\n",
      "938/938 [==============================] - 3s 3ms/step - loss: 0.0158 - accuracy: 0.9951 - val_loss: 0.1009 - val_accuracy: 0.9799\n",
      "Epoch 17/100\n",
      "938/938 [==============================] - 3s 3ms/step - loss: 0.0169 - accuracy: 0.9944 - val_loss: 0.0826 - val_accuracy: 0.9845\n",
      "Epoch 18/100\n",
      "938/938 [==============================] - 3s 3ms/step - loss: 0.0142 - accuracy: 0.9955 - val_loss: 0.0868 - val_accuracy: 0.9841\n",
      "Epoch 19/100\n",
      "938/938 [==============================] - 3s 3ms/step - loss: 0.0159 - accuracy: 0.9946 - val_loss: 0.0910 - val_accuracy: 0.9828\n",
      "Epoch 20/100\n",
      "938/938 [==============================] - 3s 3ms/step - loss: 0.0127 - accuracy: 0.9958 - val_loss: 0.1021 - val_accuracy: 0.9820\n",
      "Epoch 21/100\n",
      "938/938 [==============================] - 3s 3ms/step - loss: 0.0139 - accuracy: 0.9955 - val_loss: 0.1014 - val_accuracy: 0.9818\n",
      "Epoch 22/100\n",
      "938/938 [==============================] - 3s 3ms/step - loss: 0.0157 - accuracy: 0.9953 - val_loss: 0.1050 - val_accuracy: 0.9838\n",
      "Epoch 23/100\n",
      "938/938 [==============================] - 3s 3ms/step - loss: 0.0104 - accuracy: 0.9967 - val_loss: 0.1038 - val_accuracy: 0.9828\n",
      "Epoch 24/100\n",
      "938/938 [==============================] - 3s 3ms/step - loss: 0.0118 - accuracy: 0.9961 - val_loss: 0.1144 - val_accuracy: 0.9815\n",
      "Epoch 25/100\n",
      "938/938 [==============================] - 3s 3ms/step - loss: 0.0104 - accuracy: 0.9968 - val_loss: 0.1000 - val_accuracy: 0.9847\n",
      "Epoch 26/100\n",
      "938/938 [==============================] - 3s 3ms/step - loss: 0.0115 - accuracy: 0.9965 - val_loss: 0.1215 - val_accuracy: 0.9825\n",
      "Epoch 27/100\n",
      "938/938 [==============================] - 3s 3ms/step - loss: 0.0116 - accuracy: 0.9967 - val_loss: 0.1139 - val_accuracy: 0.9853\n",
      "Epoch 28/100\n",
      "938/938 [==============================] - 3s 3ms/step - loss: 0.0097 - accuracy: 0.9968 - val_loss: 0.1097 - val_accuracy: 0.9830\n",
      "Epoch 29/100\n",
      "938/938 [==============================] - 3s 3ms/step - loss: 0.0088 - accuracy: 0.9973 - val_loss: 0.1240 - val_accuracy: 0.9824\n",
      "Epoch 30/100\n",
      "938/938 [==============================] - 3s 3ms/step - loss: 0.0098 - accuracy: 0.9968 - val_loss: 0.1140 - val_accuracy: 0.9838\n",
      "Epoch 31/100\n",
      "938/938 [==============================] - 3s 3ms/step - loss: 0.0096 - accuracy: 0.9971 - val_loss: 0.1394 - val_accuracy: 0.9824\n",
      "Epoch 32/100\n",
      "938/938 [==============================] - 3s 3ms/step - loss: 0.0112 - accuracy: 0.9966 - val_loss: 0.1273 - val_accuracy: 0.9819\n",
      "Epoch 33/100\n",
      "938/938 [==============================] - 3s 3ms/step - loss: 0.0088 - accuracy: 0.9973 - val_loss: 0.1483 - val_accuracy: 0.9820\n",
      "Epoch 34/100\n",
      "938/938 [==============================] - 3s 3ms/step - loss: 0.0096 - accuracy: 0.9970 - val_loss: 0.1325 - val_accuracy: 0.9833\n",
      "Epoch 35/100\n",
      "938/938 [==============================] - 3s 3ms/step - loss: 0.0102 - accuracy: 0.9971 - val_loss: 0.1168 - val_accuracy: 0.9841\n",
      "Epoch 36/100\n",
      "938/938 [==============================] - 3s 4ms/step - loss: 0.0073 - accuracy: 0.9980 - val_loss: 0.1401 - val_accuracy: 0.9821\n",
      "Epoch 37/100\n",
      "938/938 [==============================] - 3s 3ms/step - loss: 0.0095 - accuracy: 0.9970 - val_loss: 0.1361 - val_accuracy: 0.9819\n",
      "Epoch 38/100\n",
      "938/938 [==============================] - 3s 3ms/step - loss: 0.0092 - accuracy: 0.9974 - val_loss: 0.1289 - val_accuracy: 0.9862\n",
      "Epoch 39/100\n",
      "938/938 [==============================] - 3s 3ms/step - loss: 0.0064 - accuracy: 0.9980 - val_loss: 0.1554 - val_accuracy: 0.9817\n",
      "Epoch 40/100\n",
      "938/938 [==============================] - 3s 3ms/step - loss: 0.0086 - accuracy: 0.9974 - val_loss: 0.1493 - val_accuracy: 0.9820\n",
      "Epoch 41/100\n",
      "938/938 [==============================] - 3s 3ms/step - loss: 0.0091 - accuracy: 0.9970 - val_loss: 0.1561 - val_accuracy: 0.9808\n",
      "Epoch 42/100\n",
      "938/938 [==============================] - 3s 3ms/step - loss: 0.0082 - accuracy: 0.9977 - val_loss: 0.1479 - val_accuracy: 0.9831\n",
      "Epoch 43/100\n",
      "938/938 [==============================] - 3s 3ms/step - loss: 0.0077 - accuracy: 0.9977 - val_loss: 0.1394 - val_accuracy: 0.9836\n",
      "Epoch 44/100\n",
      "938/938 [==============================] - 3s 3ms/step - loss: 0.0065 - accuracy: 0.9979 - val_loss: 0.1365 - val_accuracy: 0.9846\n",
      "Epoch 45/100\n",
      "938/938 [==============================] - 3s 3ms/step - loss: 0.0085 - accuracy: 0.9976 - val_loss: 0.1531 - val_accuracy: 0.9824\n",
      "Epoch 46/100\n",
      "938/938 [==============================] - 3s 3ms/step - loss: 0.0070 - accuracy: 0.9979 - val_loss: 0.1405 - val_accuracy: 0.9829\n",
      "Epoch 47/100\n",
      "938/938 [==============================] - 3s 3ms/step - loss: 0.0085 - accuracy: 0.9976 - val_loss: 0.1401 - val_accuracy: 0.9838\n",
      "Epoch 48/100\n",
      "938/938 [==============================] - 3s 3ms/step - loss: 0.0064 - accuracy: 0.9982 - val_loss: 0.1439 - val_accuracy: 0.9849\n",
      "Epoch 49/100\n",
      "938/938 [==============================] - 3s 3ms/step - loss: 0.0087 - accuracy: 0.9974 - val_loss: 0.1455 - val_accuracy: 0.9839\n",
      "Epoch 50/100\n",
      "938/938 [==============================] - 3s 3ms/step - loss: 0.0068 - accuracy: 0.9980 - val_loss: 0.1579 - val_accuracy: 0.9837\n",
      "Epoch 51/100\n",
      "938/938 [==============================] - 3s 3ms/step - loss: 0.0083 - accuracy: 0.9978 - val_loss: 0.1604 - val_accuracy: 0.9829\n",
      "Epoch 52/100\n",
      "938/938 [==============================] - 3s 3ms/step - loss: 0.0064 - accuracy: 0.9980 - val_loss: 0.1391 - val_accuracy: 0.9832\n",
      "Epoch 53/100\n",
      "938/938 [==============================] - 3s 3ms/step - loss: 0.0052 - accuracy: 0.9985 - val_loss: 0.1548 - val_accuracy: 0.9831\n",
      "Epoch 54/100\n",
      "938/938 [==============================] - 4s 4ms/step - loss: 0.0075 - accuracy: 0.9979 - val_loss: 0.1768 - val_accuracy: 0.9820\n",
      "Epoch 55/100\n",
      "938/938 [==============================] - 4s 4ms/step - loss: 0.0063 - accuracy: 0.9980 - val_loss: 0.1669 - val_accuracy: 0.9832\n",
      "Epoch 56/100\n",
      "938/938 [==============================] - 3s 3ms/step - loss: 0.0068 - accuracy: 0.9981 - val_loss: 0.1569 - val_accuracy: 0.9833\n",
      "Epoch 57/100\n",
      "938/938 [==============================] - 3s 3ms/step - loss: 0.0079 - accuracy: 0.9979 - val_loss: 0.1773 - val_accuracy: 0.9838\n"
     ]
    },
    {
     "name": "stdout",
     "output_type": "stream",
     "text": [
      "Epoch 58/100\n",
      "938/938 [==============================] - 4s 5ms/step - loss: 0.0079 - accuracy: 0.9980 - val_loss: 0.1409 - val_accuracy: 0.9839\n",
      "Epoch 59/100\n",
      "938/938 [==============================] - 3s 3ms/step - loss: 0.0067 - accuracy: 0.9984 - val_loss: 0.1567 - val_accuracy: 0.9841\n",
      "Epoch 60/100\n",
      "938/938 [==============================] - 3s 3ms/step - loss: 0.0060 - accuracy: 0.9982 - val_loss: 0.1769 - val_accuracy: 0.9819\n",
      "Epoch 61/100\n",
      "938/938 [==============================] - 3s 3ms/step - loss: 0.0075 - accuracy: 0.9981 - val_loss: 0.1760 - val_accuracy: 0.9824\n",
      "Epoch 62/100\n",
      "938/938 [==============================] - 3s 3ms/step - loss: 0.0072 - accuracy: 0.9983 - val_loss: 0.1514 - val_accuracy: 0.9829\n",
      "Epoch 63/100\n",
      "938/938 [==============================] - 3s 3ms/step - loss: 0.0054 - accuracy: 0.9985 - val_loss: 0.1816 - val_accuracy: 0.9828\n",
      "Epoch 64/100\n",
      "938/938 [==============================] - 3s 3ms/step - loss: 0.0083 - accuracy: 0.9978 - val_loss: 0.1860 - val_accuracy: 0.9831\n",
      "Epoch 65/100\n",
      "938/938 [==============================] - 3s 3ms/step - loss: 0.0056 - accuracy: 0.9985 - val_loss: 0.1506 - val_accuracy: 0.9851\n",
      "Epoch 66/100\n",
      "938/938 [==============================] - 3s 3ms/step - loss: 0.0049 - accuracy: 0.9987 - val_loss: 0.1756 - val_accuracy: 0.9836\n",
      "Epoch 67/100\n",
      "938/938 [==============================] - 3s 3ms/step - loss: 0.0096 - accuracy: 0.9976 - val_loss: 0.1858 - val_accuracy: 0.9832\n",
      "Epoch 68/100\n",
      "938/938 [==============================] - 3s 3ms/step - loss: 0.0066 - accuracy: 0.9985 - val_loss: 0.1598 - val_accuracy: 0.9853\n",
      "Epoch 69/100\n",
      "938/938 [==============================] - 3s 3ms/step - loss: 0.0048 - accuracy: 0.9984 - val_loss: 0.1798 - val_accuracy: 0.9839\n",
      "Epoch 70/100\n",
      "938/938 [==============================] - 3s 3ms/step - loss: 0.0080 - accuracy: 0.9981 - val_loss: 0.1699 - val_accuracy: 0.9837\n",
      "Epoch 71/100\n",
      "938/938 [==============================] - 4s 4ms/step - loss: 0.0037 - accuracy: 0.9990 - val_loss: 0.1883 - val_accuracy: 0.9825\n",
      "Epoch 72/100\n",
      "938/938 [==============================] - 4s 4ms/step - loss: 0.0073 - accuracy: 0.9985 - val_loss: 0.1993 - val_accuracy: 0.9836\n",
      "Epoch 73/100\n",
      "938/938 [==============================] - 4s 4ms/step - loss: 0.0077 - accuracy: 0.9981 - val_loss: 0.1941 - val_accuracy: 0.9817\n",
      "Epoch 74/100\n",
      "938/938 [==============================] - 3s 3ms/step - loss: 0.0075 - accuracy: 0.9983 - val_loss: 0.2053 - val_accuracy: 0.9827\n",
      "Epoch 75/100\n",
      "938/938 [==============================] - 3s 3ms/step - loss: 0.0047 - accuracy: 0.9987 - val_loss: 0.1945 - val_accuracy: 0.9827\n",
      "Epoch 76/100\n",
      "938/938 [==============================] - 3s 3ms/step - loss: 0.0038 - accuracy: 0.9990 - val_loss: 0.1820 - val_accuracy: 0.9836\n",
      "Epoch 77/100\n",
      "938/938 [==============================] - 3s 3ms/step - loss: 0.0061 - accuracy: 0.9985 - val_loss: 0.2098 - val_accuracy: 0.9819\n",
      "Epoch 78/100\n",
      "938/938 [==============================] - 3s 3ms/step - loss: 0.0077 - accuracy: 0.9983 - val_loss: 0.2099 - val_accuracy: 0.9806\n",
      "Epoch 79/100\n",
      "938/938 [==============================] - 3s 3ms/step - loss: 0.0048 - accuracy: 0.9987 - val_loss: 0.1929 - val_accuracy: 0.9827\n",
      "Epoch 80/100\n",
      "938/938 [==============================] - 3s 3ms/step - loss: 0.0044 - accuracy: 0.9990 - val_loss: 0.2094 - val_accuracy: 0.9807\n",
      "Epoch 81/100\n",
      "938/938 [==============================] - 3s 3ms/step - loss: 0.0052 - accuracy: 0.9987 - val_loss: 0.2056 - val_accuracy: 0.9824\n",
      "Epoch 82/100\n",
      "938/938 [==============================] - 3s 3ms/step - loss: 0.0078 - accuracy: 0.9984 - val_loss: 0.2190 - val_accuracy: 0.9826\n",
      "Epoch 83/100\n",
      "938/938 [==============================] - 3s 3ms/step - loss: 0.0068 - accuracy: 0.9982 - val_loss: 0.1886 - val_accuracy: 0.9827\n",
      "Epoch 84/100\n",
      "938/938 [==============================] - 3s 3ms/step - loss: 0.0043 - accuracy: 0.9987 - val_loss: 0.1978 - val_accuracy: 0.9832\n",
      "Epoch 85/100\n",
      "938/938 [==============================] - 3s 3ms/step - loss: 0.0041 - accuracy: 0.9989 - val_loss: 0.2208 - val_accuracy: 0.9810\n",
      "Epoch 86/100\n",
      "938/938 [==============================] - 3s 3ms/step - loss: 0.0046 - accuracy: 0.9987 - val_loss: 0.1833 - val_accuracy: 0.9835\n",
      "Epoch 87/100\n",
      "938/938 [==============================] - 3s 3ms/step - loss: 0.0062 - accuracy: 0.9987 - val_loss: 0.2115 - val_accuracy: 0.9828\n",
      "Epoch 88/100\n",
      "938/938 [==============================] - 3s 3ms/step - loss: 0.0074 - accuracy: 0.9983 - val_loss: 0.2290 - val_accuracy: 0.9835\n",
      "Epoch 89/100\n",
      "938/938 [==============================] - 3s 3ms/step - loss: 0.0051 - accuracy: 0.9988 - val_loss: 0.2160 - val_accuracy: 0.9823\n",
      "Epoch 90/100\n",
      "938/938 [==============================] - 3s 3ms/step - loss: 0.0050 - accuracy: 0.9988 - val_loss: 0.1964 - val_accuracy: 0.9834\n",
      "Epoch 91/100\n",
      "938/938 [==============================] - 3s 3ms/step - loss: 0.0063 - accuracy: 0.9986 - val_loss: 0.2140 - val_accuracy: 0.9816\n",
      "Epoch 92/100\n",
      "938/938 [==============================] - 3s 3ms/step - loss: 0.0059 - accuracy: 0.9987 - val_loss: 0.2254 - val_accuracy: 0.9832\n",
      "Epoch 93/100\n",
      "938/938 [==============================] - 3s 3ms/step - loss: 0.0064 - accuracy: 0.9985 - val_loss: 0.1895 - val_accuracy: 0.9838\n",
      "Epoch 94/100\n",
      "938/938 [==============================] - 3s 3ms/step - loss: 0.0050 - accuracy: 0.9986 - val_loss: 0.1850 - val_accuracy: 0.9827\n",
      "Epoch 95/100\n",
      "938/938 [==============================] - 3s 3ms/step - loss: 0.0035 - accuracy: 0.9991 - val_loss: 0.2011 - val_accuracy: 0.9835\n",
      "Epoch 96/100\n",
      "938/938 [==============================] - 3s 3ms/step - loss: 0.0048 - accuracy: 0.9987 - val_loss: 0.2323 - val_accuracy: 0.9832\n",
      "Epoch 97/100\n",
      "938/938 [==============================] - 3s 3ms/step - loss: 0.0056 - accuracy: 0.9988 - val_loss: 0.2128 - val_accuracy: 0.9835\n",
      "Epoch 98/100\n",
      "938/938 [==============================] - 3s 3ms/step - loss: 0.0052 - accuracy: 0.9988 - val_loss: 0.2143 - val_accuracy: 0.9843\n",
      "Epoch 99/100\n",
      "938/938 [==============================] - 3s 3ms/step - loss: 0.0054 - accuracy: 0.9986 - val_loss: 0.2235 - val_accuracy: 0.9827\n",
      "Epoch 100/100\n",
      "938/938 [==============================] - 3s 3ms/step - loss: 0.0070 - accuracy: 0.9983 - val_loss: 0.2362 - val_accuracy: 0.9824\n"
     ]
    }
   ],
   "source": [
    "# training parameters\n",
    "batch_size = 64\n",
    "epochs = 100\n",
    "\n",
    "# create the deep neural net\n",
    "model_DNN=compile_model()\n",
    "\n",
    "# train DNN and store training info in history\n",
    "history=model_DNN.fit(X_train, Y_train,\n",
    "          batch_size=batch_size,\n",
    "          epochs=epochs,\n",
    "          verbose=1,\n",
    "          validation_data=(X_test, Y_test))"
   ]
  },
  {
   "cell_type": "markdown",
   "metadata": {},
   "source": [
    "### Step 5: Evaluate the Model Performance on the *Unseen* Test Data\n",
    "\n",
    "Next, we evaluate the model and read of the loss on the test data, and its accuracy using the `evaluate()` method."
   ]
  },
  {
   "cell_type": "code",
   "execution_count": 12,
   "metadata": {},
   "outputs": [
    {
     "name": "stdout",
     "output_type": "stream",
     "text": [
      "313/313 [==============================] - 0s 1ms/step - loss: 0.2362 - accuracy: 0.9824\n",
      "\n",
      "Test loss: 0.23622189462184906\n",
      "Test accuracy: 0.9824000000953674\n"
     ]
    },
    {
     "data": {
      "image/png": "[encoded data removed]",
      "text/plain": [
       "<Figure size 432x288 with 1 Axes>"
      ]
     },
     "metadata": {
      "needs_background": "light"
     },
     "output_type": "display_data"
    },
    {
     "data": {
      "image/png": "[encoded data removed]",
      "text/plain": [
       "<Figure size 432x288 with 1 Axes>"
      ]
     },
     "metadata": {
      "needs_background": "light"
     },
     "output_type": "display_data"
    }
   ],
   "source": [
    "# evaluate model\n",
    "score = model_DNN.evaluate(X_test, Y_test, verbose=1)\n",
    "\n",
    "# print performance\n",
    "print()\n",
    "print('Test loss:', score[0])\n",
    "print('Test accuracy:', score[1])\n",
    "\n",
    "# look into training history\n",
    "\n",
    "# summarize history for accuracy\n",
    "plt.plot(history.history['accuracy'])\n",
    "plt.plot(history.history['val_accuracy'])\n",
    "plt.ylabel('model accuracy')\n",
    "plt.xlabel('epoch')\n",
    "plt.legend(['train', 'test'], loc='best')\n",
    "plt.show()\n",
    "\n",
    "# summarize history for loss\n",
    "plt.plot(history.history['loss'])\n",
    "plt.plot(history.history['val_loss'])\n",
    "plt.ylabel('model loss')\n",
    "plt.xlabel('epoch')\n",
    "plt.legend(['train', 'test'], loc='best')\n",
    "plt.show()"
   ]
  },
  {
   "cell_type": "markdown",
   "metadata": {
    "collapsed": true,
    "jupyter": {
     "outputs_hidden": true
    }
   },
   "source": [
    "### Step 6: Modify the Hyperparameters to Optimize Performance of the Model\n",
    "\n",
    "Last, we show how to use the grid search option of scikit-learn to optimize the \n",
    "hyperparameters of our model. An excellent blog on this by Jason Brownlee can be found on [https://machinelearningmastery.com/grid-search-hyperparameters-deep-learning-models-python-keras/](https://machinelearningmastery.com/grid-search-hyperparameters-deep-learning-models-python-keras/)."
   ]
  },
  {
   "cell_type": "code",
   "execution_count": 13,
   "metadata": {
    "scrolled": true
   },
   "outputs": [
    {
     "name": "stdout",
     "output_type": "stream",
     "text": [
      "704/704 [==============================] - 2s 2ms/step - loss: 1.1169 - accuracy: 0.6698\n",
      "235/235 [==============================] - 0s 1ms/step - loss: 0.5045 - accuracy: 0.8728\n",
      "704/704 [==============================] - 2s 2ms/step - loss: 1.1211 - accuracy: 0.6575\n",
      "235/235 [==============================] - 0s 1ms/step - loss: 0.5154 - accuracy: 0.8695\n",
      "704/704 [==============================] - 2s 3ms/step - loss: 1.1288 - accuracy: 0.6638\n",
      "235/235 [==============================] - 0s 2ms/step - loss: 0.5295 - accuracy: 0.8690\n",
      "704/704 [==============================] - 2s 2ms/step - loss: 1.1736 - accuracy: 0.6517\n",
      "235/235 [==============================] - 0s 1ms/step - loss: 0.4907 - accuracy: 0.8851\n",
      "704/704 [==============================] - 3s 5ms/step - loss: 0.3377 - accuracy: 0.8992\n",
      "235/235 [==============================] - 0s 1ms/step - loss: 0.1414 - accuracy: 0.9584\n",
      "704/704 [==============================] - 3s 5ms/step - loss: 0.3433 - accuracy: 0.8994\n",
      "235/235 [==============================] - 0s 2ms/step - loss: 0.1383 - accuracy: 0.9596\n",
      "704/704 [==============================] - 3s 5ms/step - loss: 0.3373 - accuracy: 0.9014\n",
      "235/235 [==============================] - 0s 1ms/step - loss: 0.1552 - accuracy: 0.9544\n",
      "704/704 [==============================] - 3s 5ms/step - loss: 0.3465 - accuracy: 0.8991\n",
      "235/235 [==============================] - 0s 1ms/step - loss: 0.1457 - accuracy: 0.9575\n",
      "704/704 [==============================] - 2s 3ms/step - loss: 1.7946 - accuracy: 0.4502\n",
      "235/235 [==============================] - 0s 1ms/step - loss: 1.2049 - accuracy: 0.7718\n",
      "704/704 [==============================] - 2s 3ms/step - loss: 1.7957 - accuracy: 0.4510\n",
      "235/235 [==============================] - 0s 1ms/step - loss: 1.2276 - accuracy: 0.7909\n",
      "704/704 [==============================] - 2s 3ms/step - loss: 1.7496 - accuracy: 0.4704\n",
      "235/235 [==============================] - 0s 1ms/step - loss: 1.1858 - accuracy: 0.7785\n",
      "704/704 [==============================] - 2s 3ms/step - loss: 1.7846 - accuracy: 0.4486\n",
      "235/235 [==============================] - 0s 2ms/step - loss: 1.1888 - accuracy: 0.7871\n",
      "704/704 [==============================] - 2s 3ms/step - loss: 2.2988 - accuracy: 0.1224\n",
      "235/235 [==============================] - 0s 1ms/step - loss: 2.2083 - accuracy: 0.1776\n",
      "704/704 [==============================] - 3s 4ms/step - loss: 2.3437 - accuracy: 0.1206\n",
      "235/235 [==============================] - 0s 2ms/step - loss: 2.2245 - accuracy: 0.1787\n",
      "704/704 [==============================] - 3s 5ms/step - loss: 2.3574 - accuracy: 0.1148\n",
      "235/235 [==============================] - 0s 2ms/step - loss: 2.2668 - accuracy: 0.1577\n",
      "704/704 [==============================] - 3s 5ms/step - loss: 2.3299 - accuracy: 0.1181\n",
      "235/235 [==============================] - 0s 2ms/step - loss: 2.2377 - accuracy: 0.1731\n",
      "704/704 [==============================] - 2s 4ms/step - loss: 0.3675 - accuracy: 0.8918\n",
      "235/235 [==============================] - 0s 2ms/step - loss: 0.1579 - accuracy: 0.9518\n",
      "704/704 [==============================] - 2s 3ms/step - loss: 0.3624 - accuracy: 0.8920\n",
      "235/235 [==============================] - 0s 2ms/step - loss: 0.1371 - accuracy: 0.9571\n",
      "704/704 [==============================] - 2s 3ms/step - loss: 0.3547 - accuracy: 0.8947\n",
      "235/235 [==============================] - 0s 2ms/step - loss: 0.1481 - accuracy: 0.9573\n",
      "704/704 [==============================] - 2s 3ms/step - loss: 0.3492 - accuracy: 0.8970\n",
      "235/235 [==============================] - 0s 2ms/step - loss: 0.1326 - accuracy: 0.9609\n",
      "704/704 [==============================] - 2s 3ms/step - loss: 0.5001 - accuracy: 0.8538\n",
      "235/235 [==============================] - 0s 2ms/step - loss: 0.2320 - accuracy: 0.9326\n",
      "704/704 [==============================] - 2s 3ms/step - loss: 0.5133 - accuracy: 0.8507\n",
      "235/235 [==============================] - 0s 2ms/step - loss: 0.2271 - accuracy: 0.9341\n",
      "704/704 [==============================] - 3s 4ms/step - loss: 0.5087 - accuracy: 0.8534\n",
      "235/235 [==============================] - 0s 2ms/step - loss: 0.2465 - accuracy: 0.9268\n",
      "704/704 [==============================] - 2s 3ms/step - loss: 0.4966 - accuracy: 0.8561\n",
      "235/235 [==============================] - 0s 1ms/step - loss: 0.2110 - accuracy: 0.9395\n",
      "704/704 [==============================] - 6s 8ms/step - loss: 0.3469 - accuracy: 0.8973\n",
      "235/235 [==============================] - 0s 1ms/step - loss: 0.1393 - accuracy: 0.9574\n",
      "704/704 [==============================] - 5s 7ms/step - loss: 0.3608 - accuracy: 0.8948\n",
      "235/235 [==============================] - ETA: 0s - loss: 0.1413 - accuracy: 0.95 - 0s 1ms/step - loss: 0.1427 - accuracy: 0.9560\n",
      "704/704 [==============================] - 5s 7ms/step - loss: 0.3431 - accuracy: 0.8974\n",
      "235/235 [==============================] - 0s 1ms/step - loss: 0.1496 - accuracy: 0.9525\n",
      "704/704 [==============================] - 5s 7ms/step - loss: 0.3500 - accuracy: 0.8972\n",
      "235/235 [==============================] - 0s 2ms/step - loss: 0.1308 - accuracy: 0.9610\n",
      "938/938 [==============================] - 4s 5ms/step - loss: 0.2950 - accuracy: 0.9135\n",
      "Best: 0.957483 using {'optimizer': 'RMSprop'}\n",
      "0.874117 (0.006525) with: {'optimizer': 'SGD'}\n",
      "0.957483 (0.001925) with: {'optimizer': 'RMSprop'}\n",
      "0.782067 (0.007450) with: {'optimizer': 'Adagrad'}\n",
      "0.171783 (0.008415) with: {'optimizer': 'Adadelta'}\n",
      "0.956767 (0.003236) with: {'optimizer': 'Adam'}\n",
      "0.933267 (0.004536) with: {'optimizer': 'Adamax'}\n",
      "0.956717 (0.003057) with: {'optimizer': 'Nadam'}\n"
     ]
    }
   ],
   "source": [
    "from sklearn.model_selection import GridSearchCV\n",
    "from keras.wrappers.scikit_learn import KerasClassifier\n",
    "\n",
    "# call Keras scikit wrapper\n",
    "model_gridsearch = KerasClassifier(build_fn=compile_model, \n",
    "                        epochs=1, \n",
    "                        batch_size=batch_size, \n",
    "                        verbose=1)\n",
    "\n",
    "# list of allowed optional arguments for the optimizer, see `compile_model()`\n",
    "optimizer = ['SGD', 'RMSprop', 'Adagrad', 'Adadelta', 'Adam', 'Adamax', 'Nadam']\n",
    "# define parameter dictionary\n",
    "param_grid = dict(optimizer=optimizer)\n",
    "# call scikit grid search module\n",
    "grid = GridSearchCV(estimator=model_gridsearch, param_grid=param_grid, n_jobs=1, cv=4)\n",
    "grid_result = grid.fit(X_train,Y_train)\n",
    "\n",
    "# summarize results\n",
    "print(\"Best: %f using %s\" % (grid_result.best_score_, grid_result.best_params_))\n",
    "means = grid_result.cv_results_['mean_test_score']\n",
    "stds = grid_result.cv_results_['std_test_score']\n",
    "params = grid_result.cv_results_['params']\n",
    "for mean, stdev, param in zip(means, stds, params):\n",
    "    print(\"%f (%f) with: %r\" % (mean, stdev, param))\n"
   ]
  },
  {
   "cell_type": "markdown",
   "metadata": {},
   "source": [
    "## Creating Convolutional Neural Nets with Keras\n",
    "\n",
    "We have so far considered each MNIST data sample as a $(28\\times 28,)$-long 1d vector. This approach neglects any spatial structure in the image. On the other hand, we do know that in every one of the hand-written digits there are *local* spatial correlations between the pixels, which we would like to take advantage of to improve the accuracy of our classification model. To this end, we first need to reshape the training and test input data as follows"
   ]
  },
  {
   "cell_type": "code",
   "execution_count": 14,
   "metadata": {},
   "outputs": [
    {
     "name": "stdout",
     "output_type": "stream",
     "text": [
      "X_train shape: (60000, 28, 28, 1)\n",
      "Y_train shape: (60000, 10)\n",
      "\n",
      "60000 train samples\n",
      "10000 test samples\n"
     ]
    }
   ],
   "source": [
    "# reshape data, depending on Keras backend\n",
    "if keras.backend.image_data_format() == 'channels_first':\n",
    "    X_train = X_train.reshape(X_train.shape[0], 1, img_rows, img_cols)\n",
    "    X_test = X_test.reshape(X_test.shape[0], 1, img_rows, img_cols)\n",
    "    input_shape = (1, img_rows, img_cols)\n",
    "else:\n",
    "    X_train = X_train.reshape(X_train.shape[0], img_rows, img_cols, 1)\n",
    "    X_test = X_test.reshape(X_test.shape[0], img_rows, img_cols, 1)\n",
    "    input_shape = (img_rows, img_cols, 1)\n",
    "    \n",
    "print('X_train shape:', X_train.shape)\n",
    "print('Y_train shape:', Y_train.shape)\n",
    "print()\n",
    "print(X_train.shape[0], 'train samples')\n",
    "print(X_test.shape[0], 'test samples')"
   ]
  },
  {
   "cell_type": "markdown",
   "metadata": {},
   "source": [
    "One can ask the question of whether a neural net can learn to recognize such local patterns. As we saw in Sec. X of the review, this can be achieved by using convolutional layers. Luckily, all we need to do is change the architecture of our DNN, i.e. introduce small changes to the function `create_model()`. We can also merge **Step 2** and **Step 3** for convenience: "
   ]
  },
  {
   "cell_type": "code",
   "execution_count": 11,
   "metadata": {},
   "outputs": [],
   "source": [
    "def create_CNN():\n",
    "    # instantiate model\n",
    "    model = Sequential()\n",
    "    # add first convolutional layer with 10 filters (dimensionality of output space)\n",
    "    model.add(Conv2D(10, kernel_size=(5, 5),\n",
    "                     activation='relu',\n",
    "                     input_shape=input_shape))\n",
    "    # add 2D pooling layer\n",
    "    model.add(MaxPooling2D(pool_size=(2, 2)))\n",
    "    # add second convolutional layer with 20 filters\n",
    "    model.add(Conv2D(20, (5, 5), activation='relu'))\n",
    "    # apply dropout with rate 0.5\n",
    "    model.add(Dropout(0.5))\n",
    "    # add 2D pooling layer\n",
    "    model.add(MaxPooling2D(pool_size=(2, 2)))\n",
    "    # flatten data\n",
    "    model.add(Flatten())\n",
    "    # add a dense all-to-all relu layer\n",
    "    model.add(Dense(20*4*4, activation='relu'))\n",
    "    # apply dropout with rate 0.5\n",
    "    model.add(Dropout(0.5))\n",
    "    # soft-max layer\n",
    "    model.add(Dense(num_classes, activation='softmax'))\n",
    "    \n",
    "    # compile the model\n",
    "    model.compile(loss=keras.losses.categorical_crossentropy,\n",
    "                  optimizer='Adam',\n",
    "                  metrics=['accuracy'])\n",
    "    \n",
    "    return model"
   ]
  },
  {
   "cell_type": "markdown",
   "metadata": {},
   "source": [
    "Training the deep conv net (**Step 4**) and evaluating its performance (**Step 6**) proceeds exactly as before:"
   ]
  },
  {
   "cell_type": "code",
   "execution_count": 12,
   "metadata": {
    "scrolled": true
   },
   "outputs": [
    {
     "name": "stdout",
     "output_type": "stream",
     "text": [
      "Epoch 1/30\n",
      "938/938 [==============================] - 12s 12ms/step - loss: 0.2584 - accuracy: 0.9183 - val_loss: 0.0778 - val_accuracy: 0.9817\n",
      "Epoch 2/30\n",
      "938/938 [==============================] - 11s 12ms/step - loss: 0.0976 - accuracy: 0.9702 - val_loss: 0.0575 - val_accuracy: 0.9865\n",
      "Epoch 3/30\n",
      "938/938 [==============================] - 11s 12ms/step - loss: 0.0753 - accuracy: 0.9767 - val_loss: 0.0455 - val_accuracy: 0.9888\n",
      "Epoch 4/30\n",
      "938/938 [==============================] - 11s 12ms/step - loss: 0.0632 - accuracy: 0.9802 - val_loss: 0.0488 - val_accuracy: 0.9879\n",
      "Epoch 5/30\n",
      "938/938 [==============================] - 11s 12ms/step - loss: 0.0569 - accuracy: 0.9827 - val_loss: 0.0388 - val_accuracy: 0.9917\n",
      "Epoch 6/30\n",
      "938/938 [==============================] - 11s 12ms/step - loss: 0.0506 - accuracy: 0.9844 - val_loss: 0.0348 - val_accuracy: 0.9897\n",
      "Epoch 7/30\n",
      "938/938 [==============================] - 11s 12ms/step - loss: 0.0471 - accuracy: 0.9849 - val_loss: 0.0350 - val_accuracy: 0.9894\n",
      "Epoch 8/30\n",
      "938/938 [==============================] - 13s 13ms/step - loss: 0.0457 - accuracy: 0.9859 - val_loss: 0.0274 - val_accuracy: 0.9918\n",
      "Epoch 9/30\n",
      "938/938 [==============================] - 13s 13ms/step - loss: 0.0433 - accuracy: 0.9862 - val_loss: 0.0288 - val_accuracy: 0.9919\n",
      "Epoch 10/30\n",
      "938/938 [==============================] - 12s 13ms/step - loss: 0.0377 - accuracy: 0.9882 - val_loss: 0.0259 - val_accuracy: 0.9924\n",
      "Epoch 11/30\n",
      "938/938 [==============================] - 12s 13ms/step - loss: 0.0372 - accuracy: 0.9883 - val_loss: 0.0258 - val_accuracy: 0.9924\n",
      "Epoch 12/30\n",
      "938/938 [==============================] - 12s 13ms/step - loss: 0.0344 - accuracy: 0.9892 - val_loss: 0.0245 - val_accuracy: 0.9933\n",
      "Epoch 13/30\n",
      "938/938 [==============================] - 12s 13ms/step - loss: 0.0347 - accuracy: 0.9897 - val_loss: 0.0258 - val_accuracy: 0.9922\n",
      "Epoch 14/30\n",
      "938/938 [==============================] - 12s 13ms/step - loss: 0.0316 - accuracy: 0.9892 - val_loss: 0.0245 - val_accuracy: 0.9923\n",
      "Epoch 15/30\n",
      "938/938 [==============================] - 11s 12ms/step - loss: 0.0319 - accuracy: 0.9898 - val_loss: 0.0210 - val_accuracy: 0.9936\n",
      "Epoch 16/30\n",
      "938/938 [==============================] - 11s 12ms/step - loss: 0.0314 - accuracy: 0.9901 - val_loss: 0.0251 - val_accuracy: 0.9927\n",
      "Epoch 17/30\n",
      "938/938 [==============================] - 11s 12ms/step - loss: 0.0301 - accuracy: 0.9907 - val_loss: 0.0239 - val_accuracy: 0.9926\n",
      "Epoch 18/30\n",
      "938/938 [==============================] - 11s 12ms/step - loss: 0.0310 - accuracy: 0.9905 - val_loss: 0.0228 - val_accuracy: 0.9926\n",
      "Epoch 19/30\n",
      "938/938 [==============================] - 11s 12ms/step - loss: 0.0275 - accuracy: 0.9909 - val_loss: 0.0228 - val_accuracy: 0.9932\n",
      "Epoch 20/30\n",
      "938/938 [==============================] - 11s 12ms/step - loss: 0.0268 - accuracy: 0.9916 - val_loss: 0.0239 - val_accuracy: 0.9927\n",
      "Epoch 21/30\n",
      "938/938 [==============================] - 12s 12ms/step - loss: 0.0269 - accuracy: 0.9913 - val_loss: 0.0224 - val_accuracy: 0.9931\n",
      "Epoch 22/30\n",
      "938/938 [==============================] - 12s 13ms/step - loss: 0.0274 - accuracy: 0.9911 - val_loss: 0.0220 - val_accuracy: 0.9926\n",
      "Epoch 23/30\n",
      "938/938 [==============================] - 12s 12ms/step - loss: 0.0254 - accuracy: 0.9916 - val_loss: 0.0214 - val_accuracy: 0.9937\n",
      "Epoch 24/30\n",
      "938/938 [==============================] - 12s 13ms/step - loss: 0.0239 - accuracy: 0.9920 - val_loss: 0.0212 - val_accuracy: 0.9929\n",
      "Epoch 25/30\n",
      "938/938 [==============================] - 12s 13ms/step - loss: 0.0240 - accuracy: 0.9927 - val_loss: 0.0225 - val_accuracy: 0.9929\n",
      "Epoch 26/30\n",
      "938/938 [==============================] - 12s 13ms/step - loss: 0.0255 - accuracy: 0.9922 - val_loss: 0.0219 - val_accuracy: 0.9934\n",
      "Epoch 27/30\n",
      "938/938 [==============================] - 12s 12ms/step - loss: 0.0242 - accuracy: 0.9926 - val_loss: 0.0211 - val_accuracy: 0.9932\n",
      "Epoch 28/30\n",
      "938/938 [==============================] - 12s 13ms/step - loss: 0.0241 - accuracy: 0.9922 - val_loss: 0.0214 - val_accuracy: 0.9939\n",
      "Epoch 29/30\n",
      "938/938 [==============================] - 12s 12ms/step - loss: 0.0250 - accuracy: 0.9923 - val_loss: 0.0215 - val_accuracy: 0.9934\n",
      "Epoch 30/30\n",
      "938/938 [==============================] - 12s 12ms/step - loss: 0.0236 - accuracy: 0.9923 - val_loss: 0.0208 - val_accuracy: 0.9941\n",
      "313/313 [==============================] - 1s 3ms/step - loss: 0.0208 - accuracy: 0.9941\n",
      "\n",
      "Test loss: 0.020819172263145447\n",
      "Test accuracy: 0.9940999746322632\n"
     ]
    }
   ],
   "source": [
    "# training parameters\n",
    "batch_size = 64\n",
    "epochs = 30\n",
    "\n",
    "# create the deep conv net\n",
    "model_CNN=create_CNN()\n",
    "\n",
    "# train CNN\n",
    "model_CNN.fit(X_train, Y_train,\n",
    "          batch_size=batch_size,\n",
    "          epochs=epochs,\n",
    "          verbose=1,\n",
    "          validation_data=(X_test, Y_test))\n",
    "\n",
    "# evaliate model\n",
    "score = model_CNN.evaluate(X_test, Y_test, verbose=1)\n",
    "\n",
    "# print performance\n",
    "print()\n",
    "print('Test loss:', score[0])\n",
    "print('Test accuracy:', score[1])"
   ]
  },
  {
   "cell_type": "code",
   "execution_count": 12,
   "metadata": {},
   "outputs": [],
   "source": [
    "def create_CNN():\n",
    "    # instantiate model\n",
    "    model = Sequential()\n",
    "    # add first convolutional layer with 10 filters (dimensionality of output space)\n",
    "    model.add(Conv2D(10, kernel_size=(5, 5),\n",
    "                     activation='relu',\n",
    "                     input_shape=input_shape))\n",
    "    # add 2D pooling layer\n",
    "    model.add(MaxPooling2D(pool_size=(2, 2)))\n",
    "    # add second convolutional layer with 20 filters\n",
    "    model.add(Conv2D(20, (5, 5), activation='relu'))\n",
    "    # apply dropout with rate 0.5\n",
    "    model.add(Dropout(0.5))\n",
    "    # add 2D pooling layer\n",
    "    model.add(MaxPooling2D(pool_size=(2, 2)))\n",
    "    # flatten data\n",
    "    model.add(Flatten())\n",
    "    # add a dense all-to-all relu layer\n",
    "    model.add(Dense(20*4*4, activation='relu'))\n",
    "    # apply dropout with rate 0.5\n",
    "    model.add(Dropout(0.5))\n",
    "    # soft-max layer\n",
    "    model.add(Dense(num_classes, activation='softmax'))\n",
    "    \n",
    "    # compile the model\n",
    "    model.compile(loss=keras.losses.categorical_crossentropy,\n",
    "                  optimizer='RMSprop',\n",
    "                  metrics=['accuracy'])\n",
    "    \n",
    "    return model"
   ]
  },
  {
   "cell_type": "code",
   "execution_count": 13,
   "metadata": {
    "scrolled": true
   },
   "outputs": [
    {
     "name": "stdout",
     "output_type": "stream",
     "text": [
      "Epoch 1/30\n",
      "938/938 [==============================] - 12s 13ms/step - loss: 0.2586 - accuracy: 0.9189 - val_loss: 0.0839 - val_accuracy: 0.9794\n",
      "Epoch 2/30\n",
      "938/938 [==============================] - 12s 12ms/step - loss: 0.0960 - accuracy: 0.9704 - val_loss: 0.0533 - val_accuracy: 0.9841\n",
      "Epoch 3/30\n",
      "938/938 [==============================] - 12s 12ms/step - loss: 0.0754 - accuracy: 0.9771 - val_loss: 0.0436 - val_accuracy: 0.9872\n",
      "Epoch 4/30\n",
      "938/938 [==============================] - 12s 12ms/step - loss: 0.0641 - accuracy: 0.9803 - val_loss: 0.0379 - val_accuracy: 0.9877\n",
      "Epoch 5/30\n",
      "938/938 [==============================] - 12s 12ms/step - loss: 0.0589 - accuracy: 0.9826 - val_loss: 0.0377 - val_accuracy: 0.9900\n",
      "Epoch 6/30\n",
      "938/938 [==============================] - 12s 12ms/step - loss: 0.0552 - accuracy: 0.9837 - val_loss: 0.0280 - val_accuracy: 0.9907\n",
      "Epoch 7/30\n",
      "938/938 [==============================] - 12s 13ms/step - loss: 0.0530 - accuracy: 0.9841 - val_loss: 0.0285 - val_accuracy: 0.9914\n",
      "Epoch 8/30\n",
      "938/938 [==============================] - 12s 13ms/step - loss: 0.0520 - accuracy: 0.9849 - val_loss: 0.0274 - val_accuracy: 0.9917\n",
      "Epoch 9/30\n",
      "938/938 [==============================] - 12s 13ms/step - loss: 0.0520 - accuracy: 0.9851 - val_loss: 0.0291 - val_accuracy: 0.9922\n",
      "Epoch 10/30\n",
      "938/938 [==============================] - 13s 14ms/step - loss: 0.0508 - accuracy: 0.9855 - val_loss: 0.0301 - val_accuracy: 0.9904\n",
      "Epoch 11/30\n",
      "938/938 [==============================] - 13s 14ms/step - loss: 0.0537 - accuracy: 0.9847 - val_loss: 0.0422 - val_accuracy: 0.9867\n",
      "Epoch 12/30\n",
      "938/938 [==============================] - 13s 14ms/step - loss: 0.0541 - accuracy: 0.9852 - val_loss: 0.0333 - val_accuracy: 0.9902\n",
      "Epoch 13/30\n",
      "938/938 [==============================] - 13s 14ms/step - loss: 0.0533 - accuracy: 0.9846 - val_loss: 0.0290 - val_accuracy: 0.9906\n",
      "Epoch 14/30\n",
      "938/938 [==============================] - 13s 14ms/step - loss: 0.0560 - accuracy: 0.9850 - val_loss: 0.0322 - val_accuracy: 0.9908\n",
      "Epoch 15/30\n",
      "938/938 [==============================] - 15s 16ms/step - loss: 0.0577 - accuracy: 0.9839 - val_loss: 0.0400 - val_accuracy: 0.9894\n",
      "Epoch 16/30\n",
      "938/938 [==============================] - 14s 15ms/step - loss: 0.0573 - accuracy: 0.9848 - val_loss: 0.0439 - val_accuracy: 0.9884\n",
      "Epoch 17/30\n",
      "938/938 [==============================] - 13s 14ms/step - loss: 0.0586 - accuracy: 0.9842 - val_loss: 0.0325 - val_accuracy: 0.9892\n",
      "Epoch 18/30\n",
      "938/938 [==============================] - 13s 14ms/step - loss: 0.0600 - accuracy: 0.9837 - val_loss: 0.0398 - val_accuracy: 0.9883\n",
      "Epoch 19/30\n",
      "938/938 [==============================] - 13s 14ms/step - loss: 0.0599 - accuracy: 0.9845 - val_loss: 0.0346 - val_accuracy: 0.9909\n",
      "Epoch 20/30\n",
      "938/938 [==============================] - 13s 14ms/step - loss: 0.0641 - accuracy: 0.9835 - val_loss: 0.0390 - val_accuracy: 0.9897\n",
      "Epoch 21/30\n",
      "938/938 [==============================] - 13s 14ms/step - loss: 0.0638 - accuracy: 0.9838 - val_loss: 0.0396 - val_accuracy: 0.9891\n",
      "Epoch 22/30\n",
      "938/938 [==============================] - 13s 14ms/step - loss: 0.0625 - accuracy: 0.9832 - val_loss: 0.0309 - val_accuracy: 0.9910\n",
      "Epoch 23/30\n",
      "938/938 [==============================] - 13s 14ms/step - loss: 0.0678 - accuracy: 0.9824 - val_loss: 0.0374 - val_accuracy: 0.9893\n",
      "Epoch 24/30\n",
      "938/938 [==============================] - 13s 14ms/step - loss: 0.0672 - accuracy: 0.9826 - val_loss: 0.0544 - val_accuracy: 0.9875\n",
      "Epoch 25/30\n",
      "938/938 [==============================] - 14s 15ms/step - loss: 0.0712 - accuracy: 0.9826 - val_loss: 0.0513 - val_accuracy: 0.9844\n",
      "Epoch 26/30\n",
      "938/938 [==============================] - 13s 14ms/step - loss: 0.0717 - accuracy: 0.9817 - val_loss: 0.0878 - val_accuracy: 0.9783\n",
      "Epoch 27/30\n",
      "938/938 [==============================] - 13s 13ms/step - loss: 0.0741 - accuracy: 0.9821 - val_loss: 0.0734 - val_accuracy: 0.9813\n",
      "Epoch 28/30\n",
      "938/938 [==============================] - 13s 13ms/step - loss: 0.0699 - accuracy: 0.9825 - val_loss: 0.0400 - val_accuracy: 0.9886\n",
      "Epoch 29/30\n",
      "938/938 [==============================] - 13s 14ms/step - loss: 0.0723 - accuracy: 0.9826 - val_loss: 0.0456 - val_accuracy: 0.9878\n",
      "Epoch 30/30\n",
      "938/938 [==============================] - 13s 14ms/step - loss: 0.0743 - accuracy: 0.9820 - val_loss: 0.1757 - val_accuracy: 0.9661\n",
      "313/313 [==============================] - 1s 3ms/step - loss: 0.1757 - accuracy: 0.9661\n",
      "\n",
      "Test loss: 0.17572152614593506\n",
      "Test accuracy: 0.9660999774932861\n"
     ]
    }
   ],
   "source": [
    "# training parameters\n",
    "batch_size = 64\n",
    "epochs = 30\n",
    "\n",
    "# create the deep conv net\n",
    "model_CNN=create_CNN()\n",
    "\n",
    "# train CNN\n",
    "model_CNN.fit(X_train, Y_train,\n",
    "          batch_size=batch_size,\n",
    "          epochs=epochs,\n",
    "          verbose=1,\n",
    "          validation_data=(X_test, Y_test))\n",
    "\n",
    "# evaliate model\n",
    "score = model_CNN.evaluate(X_test, Y_test, verbose=1)\n",
    "\n",
    "# print performance\n",
    "print()\n",
    "print('Test loss:', score[0])\n",
    "print('Test accuracy:', score[1])"
   ]
  },
  {
   "cell_type": "markdown",
   "metadata": {},
   "source": [
    "# Answer"
   ]
  },
  {
   "cell_type": "markdown",
   "metadata": {},
   "source": [
    "I have changed Epoch up to 100. The accuracy seems like is not increasing when it reaches 98.2%. Or maybe I would just need more values of Epcoh. From the hyperparameters to optimize performance of the model, I found Adam and RMSprop are the best optimizer, so I implement both solver with Epcoh = 30. Use Optimizer Adam gives me a 99.4% of accuracy, and Optimizer RMSprop gives me a 96.6% of accuracy. The optimized hyperparameter (Adam) did improve the accuracy."
   ]
  },
  {
   "cell_type": "code",
   "execution_count": 1,
   "metadata": {},
   "outputs": [
    {
     "ename": "SyntaxError",
     "evalue": "invalid syntax (<ipython-input-1-85515e081ea7>, line 1)",
     "output_type": "error",
     "traceback": [
      "\u001b[0;36m  File \u001b[0;32m\"<ipython-input-1-85515e081ea7>\"\u001b[0;36m, line \u001b[0;32m1\u001b[0m\n\u001b[0;31m    ADR: More discussion on what you learned (e.g. CNN or Keras) would be helpful. Wisdom? Take-away message. 1.75/2\u001b[0m\n\u001b[0m                       ^\u001b[0m\n\u001b[0;31mSyntaxError\u001b[0m\u001b[0;31m:\u001b[0m invalid syntax\n"
     ]
    }
   ],
   "source": [
    "ADR: More discussion on what you learned (e.g. CNN or Keras) would be helpful. Wisdom? Take-away message. 1.75/2"
   ]
  },
  {
   "cell_type": "code",
   "execution_count": null,
   "metadata": {},
   "outputs": [],
   "source": []
  }
 ],
 "metadata": {
  "kernelspec": {
   "display_name": "Python 3 (ipykernel)",
   "language": "python",
   "name": "python3"
  },
  "language_info": {
   "codemirror_mode": {
    "name": "ipython",
    "version": 3
   },
   "file_extension": ".py",
   "mimetype": "text/x-python",
   "name": "python",
   "nbconvert_exporter": "python",
   "pygments_lexer": "ipython3",
   "version": "3.10.13"
  }
 },
 "nbformat": 4,
 "nbformat_minor": 4
}
